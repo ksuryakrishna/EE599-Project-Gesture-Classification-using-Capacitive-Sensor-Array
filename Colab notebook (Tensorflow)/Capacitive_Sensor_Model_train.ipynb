{
  "nbformat": 4,
  "nbformat_minor": 0,
  "metadata": {
    "colab": {
      "provenance": []
    },
    "kernelspec": {
      "name": "python3",
      "display_name": "Python 3"
    }
  },
  "cells": [
    {
      "cell_type": "markdown",
      "metadata": {
        "id": "_UQblnrLd_ET"
      },
      "source": [
        "## Configure Defaults"
      ]
    },
    {
      "cell_type": "code",
      "metadata": {
        "id": "5PYwRFppd-WB"
      },
      "source": [
        "# Define paths to model files\n",
        "import os\n",
        "MODELS_DIR = 'models/'\n",
        "if not os.path.exists(MODELS_DIR):\n",
        "    os.mkdir(MODELS_DIR)\n",
        "MODEL_TF = MODELS_DIR + 'model'\n",
        "MODEL_NO_QUANT_TFLITE = MODELS_DIR + 'model_no_quant.tflite'\n",
        "MODEL_TFLITE = MODELS_DIR + 'model.tflite'\n",
        "MODEL_TFLITE_MICRO = MODELS_DIR + 'model.cc'"
      ],
      "execution_count": 30,
      "outputs": []
    },
    {
      "cell_type": "markdown",
      "metadata": {
        "id": "dh4AXGuHWeu1"
      },
      "source": [
        "## Setup Environment\n",
        "\n",
        "Install Dependencies"
      ]
    },
    {
      "cell_type": "code",
      "metadata": {
        "id": "cr1VLfotanf6",
        "outputId": "efbad80f-6c38-4c21-ff73-83ea6beb2ef0",
        "colab": {
          "base_uri": "https://localhost:8080/"
        }
      },
      "source": [
        "! pip install tensorflow==2.4.0"
      ],
      "execution_count": 31,
      "outputs": [
        {
          "output_type": "stream",
          "name": "stdout",
          "text": [
            "Looking in indexes: https://pypi.org/simple, https://us-python.pkg.dev/colab-wheels/public/simple/\n",
            "Requirement already satisfied: tensorflow==2.4.0 in /usr/local/lib/python3.8/dist-packages (2.4.0)\n",
            "Requirement already satisfied: flatbuffers~=1.12.0 in /usr/local/lib/python3.8/dist-packages (from tensorflow==2.4.0) (1.12)\n",
            "Requirement already satisfied: google-pasta~=0.2 in /usr/local/lib/python3.8/dist-packages (from tensorflow==2.4.0) (0.2.0)\n",
            "Requirement already satisfied: protobuf>=3.9.2 in /usr/local/lib/python3.8/dist-packages (from tensorflow==2.4.0) (3.19.6)\n",
            "Requirement already satisfied: opt-einsum~=3.3.0 in /usr/local/lib/python3.8/dist-packages (from tensorflow==2.4.0) (3.3.0)\n",
            "Requirement already satisfied: gast==0.3.3 in /usr/local/lib/python3.8/dist-packages (from tensorflow==2.4.0) (0.3.3)\n",
            "Requirement already satisfied: tensorboard~=2.4 in /usr/local/lib/python3.8/dist-packages (from tensorflow==2.4.0) (2.9.1)\n",
            "Requirement already satisfied: absl-py~=0.10 in /usr/local/lib/python3.8/dist-packages (from tensorflow==2.4.0) (0.15.0)\n",
            "Requirement already satisfied: wrapt~=1.12.1 in /usr/local/lib/python3.8/dist-packages (from tensorflow==2.4.0) (1.12.1)\n",
            "Requirement already satisfied: typing-extensions~=3.7.4 in /usr/local/lib/python3.8/dist-packages (from tensorflow==2.4.0) (3.7.4.3)\n",
            "Requirement already satisfied: tensorflow-estimator<2.5.0,>=2.4.0rc0 in /usr/local/lib/python3.8/dist-packages (from tensorflow==2.4.0) (2.4.0)\n",
            "Requirement already satisfied: six~=1.15.0 in /usr/local/lib/python3.8/dist-packages (from tensorflow==2.4.0) (1.15.0)\n",
            "Requirement already satisfied: grpcio~=1.32.0 in /usr/local/lib/python3.8/dist-packages (from tensorflow==2.4.0) (1.32.0)\n",
            "Requirement already satisfied: numpy~=1.19.2 in /usr/local/lib/python3.8/dist-packages (from tensorflow==2.4.0) (1.19.5)\n",
            "Requirement already satisfied: astunparse~=1.6.3 in /usr/local/lib/python3.8/dist-packages (from tensorflow==2.4.0) (1.6.3)\n",
            "Requirement already satisfied: h5py~=2.10.0 in /usr/local/lib/python3.8/dist-packages (from tensorflow==2.4.0) (2.10.0)\n",
            "Requirement already satisfied: keras-preprocessing~=1.1.2 in /usr/local/lib/python3.8/dist-packages (from tensorflow==2.4.0) (1.1.2)\n",
            "Requirement already satisfied: wheel~=0.35 in /usr/local/lib/python3.8/dist-packages (from tensorflow==2.4.0) (0.38.4)\n",
            "Requirement already satisfied: termcolor~=1.1.0 in /usr/local/lib/python3.8/dist-packages (from tensorflow==2.4.0) (1.1.0)\n",
            "Requirement already satisfied: werkzeug>=1.0.1 in /usr/local/lib/python3.8/dist-packages (from tensorboard~=2.4->tensorflow==2.4.0) (1.0.1)\n",
            "Requirement already satisfied: requests<3,>=2.21.0 in /usr/local/lib/python3.8/dist-packages (from tensorboard~=2.4->tensorflow==2.4.0) (2.23.0)\n",
            "Requirement already satisfied: tensorboard-data-server<0.7.0,>=0.6.0 in /usr/local/lib/python3.8/dist-packages (from tensorboard~=2.4->tensorflow==2.4.0) (0.6.1)\n",
            "Requirement already satisfied: tensorboard-plugin-wit>=1.6.0 in /usr/local/lib/python3.8/dist-packages (from tensorboard~=2.4->tensorflow==2.4.0) (1.8.1)\n",
            "Requirement already satisfied: setuptools>=41.0.0 in /usr/local/lib/python3.8/dist-packages (from tensorboard~=2.4->tensorflow==2.4.0) (57.4.0)\n",
            "Requirement already satisfied: google-auth<3,>=1.6.3 in /usr/local/lib/python3.8/dist-packages (from tensorboard~=2.4->tensorflow==2.4.0) (2.14.1)\n",
            "Requirement already satisfied: google-auth-oauthlib<0.5,>=0.4.1 in /usr/local/lib/python3.8/dist-packages (from tensorboard~=2.4->tensorflow==2.4.0) (0.4.6)\n",
            "Requirement already satisfied: markdown>=2.6.8 in /usr/local/lib/python3.8/dist-packages (from tensorboard~=2.4->tensorflow==2.4.0) (3.4.1)\n",
            "Requirement already satisfied: cachetools<6.0,>=2.0.0 in /usr/local/lib/python3.8/dist-packages (from google-auth<3,>=1.6.3->tensorboard~=2.4->tensorflow==2.4.0) (5.2.0)\n",
            "Requirement already satisfied: pyasn1-modules>=0.2.1 in /usr/local/lib/python3.8/dist-packages (from google-auth<3,>=1.6.3->tensorboard~=2.4->tensorflow==2.4.0) (0.2.8)\n",
            "Requirement already satisfied: rsa<5,>=3.1.4 in /usr/local/lib/python3.8/dist-packages (from google-auth<3,>=1.6.3->tensorboard~=2.4->tensorflow==2.4.0) (4.9)\n",
            "Requirement already satisfied: requests-oauthlib>=0.7.0 in /usr/local/lib/python3.8/dist-packages (from google-auth-oauthlib<0.5,>=0.4.1->tensorboard~=2.4->tensorflow==2.4.0) (1.3.1)\n",
            "Requirement already satisfied: importlib-metadata>=4.4 in /usr/local/lib/python3.8/dist-packages (from markdown>=2.6.8->tensorboard~=2.4->tensorflow==2.4.0) (4.13.0)\n",
            "Requirement already satisfied: zipp>=0.5 in /usr/local/lib/python3.8/dist-packages (from importlib-metadata>=4.4->markdown>=2.6.8->tensorboard~=2.4->tensorflow==2.4.0) (3.10.0)\n",
            "Requirement already satisfied: pyasn1<0.5.0,>=0.4.6 in /usr/local/lib/python3.8/dist-packages (from pyasn1-modules>=0.2.1->google-auth<3,>=1.6.3->tensorboard~=2.4->tensorflow==2.4.0) (0.4.8)\n",
            "Requirement already satisfied: idna<3,>=2.5 in /usr/local/lib/python3.8/dist-packages (from requests<3,>=2.21.0->tensorboard~=2.4->tensorflow==2.4.0) (2.10)\n",
            "Requirement already satisfied: urllib3!=1.25.0,!=1.25.1,<1.26,>=1.21.1 in /usr/local/lib/python3.8/dist-packages (from requests<3,>=2.21.0->tensorboard~=2.4->tensorflow==2.4.0) (1.24.3)\n",
            "Requirement already satisfied: chardet<4,>=3.0.2 in /usr/local/lib/python3.8/dist-packages (from requests<3,>=2.21.0->tensorboard~=2.4->tensorflow==2.4.0) (3.0.4)\n",
            "Requirement already satisfied: certifi>=2017.4.17 in /usr/local/lib/python3.8/dist-packages (from requests<3,>=2.21.0->tensorboard~=2.4->tensorflow==2.4.0) (2022.9.24)\n",
            "Requirement already satisfied: oauthlib>=3.0.0 in /usr/local/lib/python3.8/dist-packages (from requests-oauthlib>=0.7.0->google-auth-oauthlib<0.5,>=0.4.1->tensorboard~=2.4->tensorflow==2.4.0) (3.2.2)\n"
          ]
        }
      ]
    },
    {
      "cell_type": "markdown",
      "metadata": {
        "id": "tx9lOPWh9grN"
      },
      "source": [
        "Import Dependencies"
      ]
    },
    {
      "cell_type": "code",
      "metadata": {
        "id": "53PBJBv1jEtJ"
      },
      "source": [
        "# TensorFlow is an open source machine learning library\n",
        "import tensorflow as tf\n",
        "\n",
        "# Keras is TensorFlow's high-level API for deep learning\n",
        "from tensorflow import keras\n",
        "# Numpy is a math library\n",
        "import numpy as np\n",
        "# Pandas is a data manipulation library \n",
        "import pandas as pd\n",
        "# Matplotlib is a graphing library\n",
        "import matplotlib.pyplot as plt\n",
        "# Math is Python's math library\n",
        "import math\n",
        "\n",
        "# Set seed for experiment reproducibility\n",
        "seed = 1\n",
        "np.random.seed(seed)\n",
        "tf.random.set_seed(seed)"
      ],
      "execution_count": 32,
      "outputs": []
    },
    {
      "cell_type": "markdown",
      "metadata": {
        "id": "p-PuBEb6CMeo"
      },
      "source": [
        "## Dataset"
      ]
    },
    {
      "cell_type": "code",
      "source": [],
      "metadata": {
        "id": "KF98Hg7981Zb"
      },
      "execution_count": 32,
      "outputs": []
    },
    {
      "cell_type": "code",
      "source": [
        "from google.colab import drive\n",
        "drive.mount('/content/drive')"
      ],
      "metadata": {
        "colab": {
          "base_uri": "https://localhost:8080/"
        },
        "id": "SBQjacEmchJJ",
        "outputId": "b8fd5a44-be1c-4431-8e55-6f964a22f211"
      },
      "execution_count": 33,
      "outputs": [
        {
          "output_type": "stream",
          "name": "stdout",
          "text": [
            "Drive already mounted at /content/drive; to attempt to forcibly remount, call drive.mount(\"/content/drive\", force_remount=True).\n"
          ]
        }
      ]
    },
    {
      "cell_type": "code",
      "source": [
        "import pandas as pd\n",
        "df = pd.read_csv('/content/drive/Shareddrives/EE599_project/sensor_data_new.csv', header=None)\n",
        "df = df.sample(frac=1)\n",
        "\n",
        "# df = df.apply(pd.to_numeric)\n",
        "feature_col_ids = list(range(0,36))\n",
        "\n",
        "x_values = df[feature_col_ids].astype(int, errors='ignore')\n",
        "\n",
        "y_values = df[36].astype(int, errors='ignore')\n",
        "SAMPLES = df.shape[0]\n",
        "\n"
      ],
      "metadata": {
        "id": "oEGM_OxDqI4J"
      },
      "execution_count": 34,
      "outputs": []
    },
    {
      "cell_type": "code",
      "source": [
        "df[[36]].value_counts()"
      ],
      "metadata": {
        "colab": {
          "base_uri": "https://localhost:8080/"
        },
        "id": "VQlvvlrfiFQ-",
        "outputId": "559515a4-3d4d-4a90-f59d-2988240da691"
      },
      "execution_count": 35,
      "outputs": [
        {
          "output_type": "execute_result",
          "data": {
            "text/plain": [
              "36\n",
              "0     1737\n",
              "1      999\n",
              "2      572\n",
              "dtype: int64"
            ]
          },
          "metadata": {},
          "execution_count": 35
        }
      ]
    },
    {
      "cell_type": "markdown",
      "metadata": {
        "id": "Up8Xk_pMH4Rt"
      },
      "source": [
        "### 3. Split the Data\n",
        "\n",
        "The data is split as follows:\n",
        "  1. Training: 60%\n",
        "  2. Validation: 20%\n",
        "  3. Testing: 20% \n",
        "\n"
      ]
    },
    {
      "cell_type": "code",
      "metadata": {
        "id": "nNYko5L1keqZ"
      },
      "source": [
        "# We'll use 60% of our data for training and 20% for testing. The remaining 20%\n",
        "# will be used for validation. Calculate the indices of each section.\n",
        "TRAIN_SPLIT =  int(0.6 * SAMPLES)\n",
        "TEST_SPLIT = int(0.2 * SAMPLES + TRAIN_SPLIT)\n",
        "\n",
        "# Use np.split to chop our data into three parts.\n",
        "# The second argument to np.split is an array of indices where the data will be\n",
        "# split. We provide two indices, so the data will be divided into three chunks.\n",
        "x_train, x_test, x_validate = np.split(x_values, [TRAIN_SPLIT, TEST_SPLIT])\n",
        "y_train, y_test, y_validate = np.split(y_values, [TRAIN_SPLIT, TEST_SPLIT])\n",
        "\n"
      ],
      "execution_count": 36,
      "outputs": []
    },
    {
      "cell_type": "markdown",
      "metadata": {
        "id": "Wfdelu1TmgPk"
      },
      "source": [
        "## Training"
      ]
    },
    {
      "cell_type": "markdown",
      "metadata": {
        "id": "t5McVnHmNiDw"
      },
      "source": [
        "### 1. Design the Model\n"
      ]
    },
    {
      "cell_type": "code",
      "source": [
        "\n",
        "y_test"
      ],
      "metadata": {
        "colab": {
          "base_uri": "https://localhost:8080/"
        },
        "id": "TLMtl6KwDgsi",
        "outputId": "7f965517-ba8b-4908-d612-c5eec250ffbe"
      },
      "execution_count": 37,
      "outputs": [
        {
          "output_type": "execute_result",
          "data": {
            "text/plain": [
              "1082    0\n",
              "3148    2\n",
              "1892    1\n",
              "2815    2\n",
              "1279    0\n",
              "       ..\n",
              "2192    1\n",
              "2412    1\n",
              "1451    0\n",
              "1390    0\n",
              "1024    0\n",
              "Name: 36, Length: 661, dtype: int64"
            ]
          },
          "metadata": {},
          "execution_count": 37
        }
      ]
    },
    {
      "cell_type": "code",
      "source": [
        "y_values"
      ],
      "metadata": {
        "colab": {
          "base_uri": "https://localhost:8080/"
        },
        "id": "l5fGnzUBfNkk",
        "outputId": "2aa30a26-d878-42fc-bed2-47fdf0348141"
      },
      "execution_count": 38,
      "outputs": [
        {
          "output_type": "execute_result",
          "data": {
            "text/plain": [
              "979     0\n",
              "595     0\n",
              "1852    1\n",
              "3234    2\n",
              "1103    0\n",
              "       ..\n",
              "2763    2\n",
              "905     0\n",
              "1096    0\n",
              "235     0\n",
              "1061    0\n",
              "Name: 36, Length: 3308, dtype: int64"
            ]
          },
          "metadata": {},
          "execution_count": 38
        }
      ]
    },
    {
      "cell_type": "code",
      "source": [
        "x_train"
      ],
      "metadata": {
        "colab": {
          "base_uri": "https://localhost:8080/",
          "height": 424
        },
        "id": "gCFWuk3fc99A",
        "outputId": "97783c66-a44b-4928-d6be-cd0a5752924b"
      },
      "execution_count": 39,
      "outputs": [
        {
          "output_type": "execute_result",
          "data": {
            "text/plain": [
              "      0   1   2   3   4    5   6   7   8   9   ...  26  27  28   29   30   31  \\\n",
              "979    1   1  -1   0  -1  -91   1   0   0   0  ...   0   1   0  -89 -102 -103   \n",
              "595  -33 -28 -32 -30 -31 -121 -20 -15 -19 -17  ... -21 -19 -20 -110 -108 -102   \n",
              "1852  -1   0  -1  -1  -1  -57  -1   0  -1  -1  ... -18 -18 -18  -75  -15  -14   \n",
              "3234  -1   1   0   0   0   -3  -1   0   0  -1  ...  -1   0   0   -2   -9   -8   \n",
              "1103   1   1  -1   0  -1  -92   1   0  -1   1  ...   0   1  -1  -92 -102 -103   \n",
              "...   ..  ..  ..  ..  ..  ...  ..  ..  ..  ..  ...  ..  ..  ..  ...  ...  ...   \n",
              "872  -38 -33 -37 -35 -35 -127 -24 -18 -24 -22  ... -25 -23 -23 -116 -109 -103   \n",
              "590  -33 -28 -32 -30 -31 -121 -20 -15 -19 -17  ... -20 -19 -20 -110 -109 -103   \n",
              "2320   0  -1   0   0   1  -56   0   1   0   1  ...   2   1   1  -55  -95  -95   \n",
              "1576 -19 -13 -17 -15 -15 -129 -12  -6 -10  -8  ... -11 -10 -10 -124 -133 -127   \n",
              "64   -11 -10 -12 -11 -11 -111  -7  -5  -8  -6  ...  -8  -7  -7 -105  -86  -84   \n",
              "\n",
              "       32   33   34   35  \n",
              "979  -104 -104 -104 -193  \n",
              "595  -108 -106 -107 -198  \n",
              "1852  -16  -15  -15  -71  \n",
              "3234   -8   -7   -7   -9  \n",
              "1103 -106 -105 -106 -197  \n",
              "...   ...  ...  ...  ...  \n",
              "872  -109 -106 -107 -199  \n",
              "590  -109 -106 -107 -197  \n",
              "2320  -95  -94  -94 -149  \n",
              "1576 -131 -129 -129 -242  \n",
              "64    -77  -76  -74 -172  \n",
              "\n",
              "[1984 rows x 36 columns]"
            ],
            "text/html": [
              "\n",
              "  <div id=\"df-fd0f0ae5-3fad-4dc2-8be1-07ba93250355\">\n",
              "    <div class=\"colab-df-container\">\n",
              "      <div>\n",
              "<style scoped>\n",
              "    .dataframe tbody tr th:only-of-type {\n",
              "        vertical-align: middle;\n",
              "    }\n",
              "\n",
              "    .dataframe tbody tr th {\n",
              "        vertical-align: top;\n",
              "    }\n",
              "\n",
              "    .dataframe thead th {\n",
              "        text-align: right;\n",
              "    }\n",
              "</style>\n",
              "<table border=\"1\" class=\"dataframe\">\n",
              "  <thead>\n",
              "    <tr style=\"text-align: right;\">\n",
              "      <th></th>\n",
              "      <th>0</th>\n",
              "      <th>1</th>\n",
              "      <th>2</th>\n",
              "      <th>3</th>\n",
              "      <th>4</th>\n",
              "      <th>5</th>\n",
              "      <th>6</th>\n",
              "      <th>7</th>\n",
              "      <th>8</th>\n",
              "      <th>9</th>\n",
              "      <th>...</th>\n",
              "      <th>26</th>\n",
              "      <th>27</th>\n",
              "      <th>28</th>\n",
              "      <th>29</th>\n",
              "      <th>30</th>\n",
              "      <th>31</th>\n",
              "      <th>32</th>\n",
              "      <th>33</th>\n",
              "      <th>34</th>\n",
              "      <th>35</th>\n",
              "    </tr>\n",
              "  </thead>\n",
              "  <tbody>\n",
              "    <tr>\n",
              "      <th>979</th>\n",
              "      <td>1</td>\n",
              "      <td>1</td>\n",
              "      <td>-1</td>\n",
              "      <td>0</td>\n",
              "      <td>-1</td>\n",
              "      <td>-91</td>\n",
              "      <td>1</td>\n",
              "      <td>0</td>\n",
              "      <td>0</td>\n",
              "      <td>0</td>\n",
              "      <td>...</td>\n",
              "      <td>0</td>\n",
              "      <td>1</td>\n",
              "      <td>0</td>\n",
              "      <td>-89</td>\n",
              "      <td>-102</td>\n",
              "      <td>-103</td>\n",
              "      <td>-104</td>\n",
              "      <td>-104</td>\n",
              "      <td>-104</td>\n",
              "      <td>-193</td>\n",
              "    </tr>\n",
              "    <tr>\n",
              "      <th>595</th>\n",
              "      <td>-33</td>\n",
              "      <td>-28</td>\n",
              "      <td>-32</td>\n",
              "      <td>-30</td>\n",
              "      <td>-31</td>\n",
              "      <td>-121</td>\n",
              "      <td>-20</td>\n",
              "      <td>-15</td>\n",
              "      <td>-19</td>\n",
              "      <td>-17</td>\n",
              "      <td>...</td>\n",
              "      <td>-21</td>\n",
              "      <td>-19</td>\n",
              "      <td>-20</td>\n",
              "      <td>-110</td>\n",
              "      <td>-108</td>\n",
              "      <td>-102</td>\n",
              "      <td>-108</td>\n",
              "      <td>-106</td>\n",
              "      <td>-107</td>\n",
              "      <td>-198</td>\n",
              "    </tr>\n",
              "    <tr>\n",
              "      <th>1852</th>\n",
              "      <td>-1</td>\n",
              "      <td>0</td>\n",
              "      <td>-1</td>\n",
              "      <td>-1</td>\n",
              "      <td>-1</td>\n",
              "      <td>-57</td>\n",
              "      <td>-1</td>\n",
              "      <td>0</td>\n",
              "      <td>-1</td>\n",
              "      <td>-1</td>\n",
              "      <td>...</td>\n",
              "      <td>-18</td>\n",
              "      <td>-18</td>\n",
              "      <td>-18</td>\n",
              "      <td>-75</td>\n",
              "      <td>-15</td>\n",
              "      <td>-14</td>\n",
              "      <td>-16</td>\n",
              "      <td>-15</td>\n",
              "      <td>-15</td>\n",
              "      <td>-71</td>\n",
              "    </tr>\n",
              "    <tr>\n",
              "      <th>3234</th>\n",
              "      <td>-1</td>\n",
              "      <td>1</td>\n",
              "      <td>0</td>\n",
              "      <td>0</td>\n",
              "      <td>0</td>\n",
              "      <td>-3</td>\n",
              "      <td>-1</td>\n",
              "      <td>0</td>\n",
              "      <td>0</td>\n",
              "      <td>-1</td>\n",
              "      <td>...</td>\n",
              "      <td>-1</td>\n",
              "      <td>0</td>\n",
              "      <td>0</td>\n",
              "      <td>-2</td>\n",
              "      <td>-9</td>\n",
              "      <td>-8</td>\n",
              "      <td>-8</td>\n",
              "      <td>-7</td>\n",
              "      <td>-7</td>\n",
              "      <td>-9</td>\n",
              "    </tr>\n",
              "    <tr>\n",
              "      <th>1103</th>\n",
              "      <td>1</td>\n",
              "      <td>1</td>\n",
              "      <td>-1</td>\n",
              "      <td>0</td>\n",
              "      <td>-1</td>\n",
              "      <td>-92</td>\n",
              "      <td>1</td>\n",
              "      <td>0</td>\n",
              "      <td>-1</td>\n",
              "      <td>1</td>\n",
              "      <td>...</td>\n",
              "      <td>0</td>\n",
              "      <td>1</td>\n",
              "      <td>-1</td>\n",
              "      <td>-92</td>\n",
              "      <td>-102</td>\n",
              "      <td>-103</td>\n",
              "      <td>-106</td>\n",
              "      <td>-105</td>\n",
              "      <td>-106</td>\n",
              "      <td>-197</td>\n",
              "    </tr>\n",
              "    <tr>\n",
              "      <th>...</th>\n",
              "      <td>...</td>\n",
              "      <td>...</td>\n",
              "      <td>...</td>\n",
              "      <td>...</td>\n",
              "      <td>...</td>\n",
              "      <td>...</td>\n",
              "      <td>...</td>\n",
              "      <td>...</td>\n",
              "      <td>...</td>\n",
              "      <td>...</td>\n",
              "      <td>...</td>\n",
              "      <td>...</td>\n",
              "      <td>...</td>\n",
              "      <td>...</td>\n",
              "      <td>...</td>\n",
              "      <td>...</td>\n",
              "      <td>...</td>\n",
              "      <td>...</td>\n",
              "      <td>...</td>\n",
              "      <td>...</td>\n",
              "      <td>...</td>\n",
              "    </tr>\n",
              "    <tr>\n",
              "      <th>872</th>\n",
              "      <td>-38</td>\n",
              "      <td>-33</td>\n",
              "      <td>-37</td>\n",
              "      <td>-35</td>\n",
              "      <td>-35</td>\n",
              "      <td>-127</td>\n",
              "      <td>-24</td>\n",
              "      <td>-18</td>\n",
              "      <td>-24</td>\n",
              "      <td>-22</td>\n",
              "      <td>...</td>\n",
              "      <td>-25</td>\n",
              "      <td>-23</td>\n",
              "      <td>-23</td>\n",
              "      <td>-116</td>\n",
              "      <td>-109</td>\n",
              "      <td>-103</td>\n",
              "      <td>-109</td>\n",
              "      <td>-106</td>\n",
              "      <td>-107</td>\n",
              "      <td>-199</td>\n",
              "    </tr>\n",
              "    <tr>\n",
              "      <th>590</th>\n",
              "      <td>-33</td>\n",
              "      <td>-28</td>\n",
              "      <td>-32</td>\n",
              "      <td>-30</td>\n",
              "      <td>-31</td>\n",
              "      <td>-121</td>\n",
              "      <td>-20</td>\n",
              "      <td>-15</td>\n",
              "      <td>-19</td>\n",
              "      <td>-17</td>\n",
              "      <td>...</td>\n",
              "      <td>-20</td>\n",
              "      <td>-19</td>\n",
              "      <td>-20</td>\n",
              "      <td>-110</td>\n",
              "      <td>-109</td>\n",
              "      <td>-103</td>\n",
              "      <td>-109</td>\n",
              "      <td>-106</td>\n",
              "      <td>-107</td>\n",
              "      <td>-197</td>\n",
              "    </tr>\n",
              "    <tr>\n",
              "      <th>2320</th>\n",
              "      <td>0</td>\n",
              "      <td>-1</td>\n",
              "      <td>0</td>\n",
              "      <td>0</td>\n",
              "      <td>1</td>\n",
              "      <td>-56</td>\n",
              "      <td>0</td>\n",
              "      <td>1</td>\n",
              "      <td>0</td>\n",
              "      <td>1</td>\n",
              "      <td>...</td>\n",
              "      <td>2</td>\n",
              "      <td>1</td>\n",
              "      <td>1</td>\n",
              "      <td>-55</td>\n",
              "      <td>-95</td>\n",
              "      <td>-95</td>\n",
              "      <td>-95</td>\n",
              "      <td>-94</td>\n",
              "      <td>-94</td>\n",
              "      <td>-149</td>\n",
              "    </tr>\n",
              "    <tr>\n",
              "      <th>1576</th>\n",
              "      <td>-19</td>\n",
              "      <td>-13</td>\n",
              "      <td>-17</td>\n",
              "      <td>-15</td>\n",
              "      <td>-15</td>\n",
              "      <td>-129</td>\n",
              "      <td>-12</td>\n",
              "      <td>-6</td>\n",
              "      <td>-10</td>\n",
              "      <td>-8</td>\n",
              "      <td>...</td>\n",
              "      <td>-11</td>\n",
              "      <td>-10</td>\n",
              "      <td>-10</td>\n",
              "      <td>-124</td>\n",
              "      <td>-133</td>\n",
              "      <td>-127</td>\n",
              "      <td>-131</td>\n",
              "      <td>-129</td>\n",
              "      <td>-129</td>\n",
              "      <td>-242</td>\n",
              "    </tr>\n",
              "    <tr>\n",
              "      <th>64</th>\n",
              "      <td>-11</td>\n",
              "      <td>-10</td>\n",
              "      <td>-12</td>\n",
              "      <td>-11</td>\n",
              "      <td>-11</td>\n",
              "      <td>-111</td>\n",
              "      <td>-7</td>\n",
              "      <td>-5</td>\n",
              "      <td>-8</td>\n",
              "      <td>-6</td>\n",
              "      <td>...</td>\n",
              "      <td>-8</td>\n",
              "      <td>-7</td>\n",
              "      <td>-7</td>\n",
              "      <td>-105</td>\n",
              "      <td>-86</td>\n",
              "      <td>-84</td>\n",
              "      <td>-77</td>\n",
              "      <td>-76</td>\n",
              "      <td>-74</td>\n",
              "      <td>-172</td>\n",
              "    </tr>\n",
              "  </tbody>\n",
              "</table>\n",
              "<p>1984 rows × 36 columns</p>\n",
              "</div>\n",
              "      <button class=\"colab-df-convert\" onclick=\"convertToInteractive('df-fd0f0ae5-3fad-4dc2-8be1-07ba93250355')\"\n",
              "              title=\"Convert this dataframe to an interactive table.\"\n",
              "              style=\"display:none;\">\n",
              "        \n",
              "  <svg xmlns=\"http://www.w3.org/2000/svg\" height=\"24px\"viewBox=\"0 0 24 24\"\n",
              "       width=\"24px\">\n",
              "    <path d=\"M0 0h24v24H0V0z\" fill=\"none\"/>\n",
              "    <path d=\"M18.56 5.44l.94 2.06.94-2.06 2.06-.94-2.06-.94-.94-2.06-.94 2.06-2.06.94zm-11 1L8.5 8.5l.94-2.06 2.06-.94-2.06-.94L8.5 2.5l-.94 2.06-2.06.94zm10 10l.94 2.06.94-2.06 2.06-.94-2.06-.94-.94-2.06-.94 2.06-2.06.94z\"/><path d=\"M17.41 7.96l-1.37-1.37c-.4-.4-.92-.59-1.43-.59-.52 0-1.04.2-1.43.59L10.3 9.45l-7.72 7.72c-.78.78-.78 2.05 0 2.83L4 21.41c.39.39.9.59 1.41.59.51 0 1.02-.2 1.41-.59l7.78-7.78 2.81-2.81c.8-.78.8-2.07 0-2.86zM5.41 20L4 18.59l7.72-7.72 1.47 1.35L5.41 20z\"/>\n",
              "  </svg>\n",
              "      </button>\n",
              "      \n",
              "  <style>\n",
              "    .colab-df-container {\n",
              "      display:flex;\n",
              "      flex-wrap:wrap;\n",
              "      gap: 12px;\n",
              "    }\n",
              "\n",
              "    .colab-df-convert {\n",
              "      background-color: #E8F0FE;\n",
              "      border: none;\n",
              "      border-radius: 50%;\n",
              "      cursor: pointer;\n",
              "      display: none;\n",
              "      fill: #1967D2;\n",
              "      height: 32px;\n",
              "      padding: 0 0 0 0;\n",
              "      width: 32px;\n",
              "    }\n",
              "\n",
              "    .colab-df-convert:hover {\n",
              "      background-color: #E2EBFA;\n",
              "      box-shadow: 0px 1px 2px rgba(60, 64, 67, 0.3), 0px 1px 3px 1px rgba(60, 64, 67, 0.15);\n",
              "      fill: #174EA6;\n",
              "    }\n",
              "\n",
              "    [theme=dark] .colab-df-convert {\n",
              "      background-color: #3B4455;\n",
              "      fill: #D2E3FC;\n",
              "    }\n",
              "\n",
              "    [theme=dark] .colab-df-convert:hover {\n",
              "      background-color: #434B5C;\n",
              "      box-shadow: 0px 1px 3px 1px rgba(0, 0, 0, 0.15);\n",
              "      filter: drop-shadow(0px 1px 2px rgba(0, 0, 0, 0.3));\n",
              "      fill: #FFFFFF;\n",
              "    }\n",
              "  </style>\n",
              "\n",
              "      <script>\n",
              "        const buttonEl =\n",
              "          document.querySelector('#df-fd0f0ae5-3fad-4dc2-8be1-07ba93250355 button.colab-df-convert');\n",
              "        buttonEl.style.display =\n",
              "          google.colab.kernel.accessAllowed ? 'block' : 'none';\n",
              "\n",
              "        async function convertToInteractive(key) {\n",
              "          const element = document.querySelector('#df-fd0f0ae5-3fad-4dc2-8be1-07ba93250355');\n",
              "          const dataTable =\n",
              "            await google.colab.kernel.invokeFunction('convertToInteractive',\n",
              "                                                     [key], {});\n",
              "          if (!dataTable) return;\n",
              "\n",
              "          const docLinkHtml = 'Like what you see? Visit the ' +\n",
              "            '<a target=\"_blank\" href=https://colab.research.google.com/notebooks/data_table.ipynb>data table notebook</a>'\n",
              "            + ' to learn more about interactive tables.';\n",
              "          element.innerHTML = '';\n",
              "          dataTable['output_type'] = 'display_data';\n",
              "          await google.colab.output.renderOutput(dataTable, element);\n",
              "          const docLink = document.createElement('div');\n",
              "          docLink.innerHTML = docLinkHtml;\n",
              "          element.appendChild(docLink);\n",
              "        }\n",
              "      </script>\n",
              "    </div>\n",
              "  </div>\n",
              "  "
            ]
          },
          "metadata": {},
          "execution_count": 39
        }
      ]
    },
    {
      "cell_type": "code",
      "source": [
        "x_test"
      ],
      "metadata": {
        "colab": {
          "base_uri": "https://localhost:8080/",
          "height": 424
        },
        "id": "y1zNpgMhc-Cy",
        "outputId": "9b3a2bec-3998-4100-e751-1e72aabdd1a2"
      },
      "execution_count": 40,
      "outputs": [
        {
          "output_type": "execute_result",
          "data": {
            "text/plain": [
              "      0   1   2   3   4    5   6   7   8   9   ...  26  27  28   29   30   31  \\\n",
              "1082   0   0  -2  -1  -2  -95   1   0  -1   0  ...  -1   0  -1  -93 -103 -104   \n",
              "3148  -1   0   0   0   0   18  -1   0   0   1  ...   0   0   1   18  -11  -10   \n",
              "1892  -2   0  -2  -2  -2  -58  -1   0  -1  -1  ... -18 -18 -18  -74  -15  -14   \n",
              "2815  -1   1   0   0   0   -6  -1   1   0   0  ...   0   0   0   -6  -23  -21   \n",
              "1279 -16 -11 -13 -13 -13 -121  -9  -5  -7  -7  ...  -9  -9  -8 -118 -127 -123   \n",
              "...   ..  ..  ..  ..  ..  ...  ..  ..  ..  ..  ...  ..  ..  ..  ...  ...  ...   \n",
              "2192   0   0   0   1   0   -5   0   0   0   0  ...   1   1   1   -4   -9   -9   \n",
              "2412   0   1   1   0  -1   -6   1   1   0   0  ...   1   0   0   -4   21   20   \n",
              "1451 -16 -11 -14 -13 -13  -18 -10  -6  -9  -8  ... -11 -10  -9  -15 -117 -112   \n",
              "1390 -16 -11 -14 -13 -13  -19 -11  -6  -9  -7  ... -11 -10  -9  -16 -118 -112   \n",
              "1024   0   0  -2  -1  -2  -91   1   0  -1   0  ...  -1   0   0  -89 -102 -103   \n",
              "\n",
              "       32   33   34   35  \n",
              "1082 -106 -105 -106 -199  \n",
              "3148   -8   -8   -8    8  \n",
              "1892  -16  -16  -15  -72  \n",
              "2815  -22  -23  -22  -27  \n",
              "1279 -125 -125 -125 -234  \n",
              "...   ...  ...  ...  ...  \n",
              "2192  -10   -9   -7  -13  \n",
              "2412   20   19   20   16  \n",
              "1451 -115 -114 -114 -119  \n",
              "1390 -115 -114 -115 -120  \n",
              "1024 -105 -104 -105 -194  \n",
              "\n",
              "[661 rows x 36 columns]"
            ],
            "text/html": [
              "\n",
              "  <div id=\"df-aba31501-360a-4216-91c0-d7f86251b3e0\">\n",
              "    <div class=\"colab-df-container\">\n",
              "      <div>\n",
              "<style scoped>\n",
              "    .dataframe tbody tr th:only-of-type {\n",
              "        vertical-align: middle;\n",
              "    }\n",
              "\n",
              "    .dataframe tbody tr th {\n",
              "        vertical-align: top;\n",
              "    }\n",
              "\n",
              "    .dataframe thead th {\n",
              "        text-align: right;\n",
              "    }\n",
              "</style>\n",
              "<table border=\"1\" class=\"dataframe\">\n",
              "  <thead>\n",
              "    <tr style=\"text-align: right;\">\n",
              "      <th></th>\n",
              "      <th>0</th>\n",
              "      <th>1</th>\n",
              "      <th>2</th>\n",
              "      <th>3</th>\n",
              "      <th>4</th>\n",
              "      <th>5</th>\n",
              "      <th>6</th>\n",
              "      <th>7</th>\n",
              "      <th>8</th>\n",
              "      <th>9</th>\n",
              "      <th>...</th>\n",
              "      <th>26</th>\n",
              "      <th>27</th>\n",
              "      <th>28</th>\n",
              "      <th>29</th>\n",
              "      <th>30</th>\n",
              "      <th>31</th>\n",
              "      <th>32</th>\n",
              "      <th>33</th>\n",
              "      <th>34</th>\n",
              "      <th>35</th>\n",
              "    </tr>\n",
              "  </thead>\n",
              "  <tbody>\n",
              "    <tr>\n",
              "      <th>1082</th>\n",
              "      <td>0</td>\n",
              "      <td>0</td>\n",
              "      <td>-2</td>\n",
              "      <td>-1</td>\n",
              "      <td>-2</td>\n",
              "      <td>-95</td>\n",
              "      <td>1</td>\n",
              "      <td>0</td>\n",
              "      <td>-1</td>\n",
              "      <td>0</td>\n",
              "      <td>...</td>\n",
              "      <td>-1</td>\n",
              "      <td>0</td>\n",
              "      <td>-1</td>\n",
              "      <td>-93</td>\n",
              "      <td>-103</td>\n",
              "      <td>-104</td>\n",
              "      <td>-106</td>\n",
              "      <td>-105</td>\n",
              "      <td>-106</td>\n",
              "      <td>-199</td>\n",
              "    </tr>\n",
              "    <tr>\n",
              "      <th>3148</th>\n",
              "      <td>-1</td>\n",
              "      <td>0</td>\n",
              "      <td>0</td>\n",
              "      <td>0</td>\n",
              "      <td>0</td>\n",
              "      <td>18</td>\n",
              "      <td>-1</td>\n",
              "      <td>0</td>\n",
              "      <td>0</td>\n",
              "      <td>1</td>\n",
              "      <td>...</td>\n",
              "      <td>0</td>\n",
              "      <td>0</td>\n",
              "      <td>1</td>\n",
              "      <td>18</td>\n",
              "      <td>-11</td>\n",
              "      <td>-10</td>\n",
              "      <td>-8</td>\n",
              "      <td>-8</td>\n",
              "      <td>-8</td>\n",
              "      <td>8</td>\n",
              "    </tr>\n",
              "    <tr>\n",
              "      <th>1892</th>\n",
              "      <td>-2</td>\n",
              "      <td>0</td>\n",
              "      <td>-2</td>\n",
              "      <td>-2</td>\n",
              "      <td>-2</td>\n",
              "      <td>-58</td>\n",
              "      <td>-1</td>\n",
              "      <td>0</td>\n",
              "      <td>-1</td>\n",
              "      <td>-1</td>\n",
              "      <td>...</td>\n",
              "      <td>-18</td>\n",
              "      <td>-18</td>\n",
              "      <td>-18</td>\n",
              "      <td>-74</td>\n",
              "      <td>-15</td>\n",
              "      <td>-14</td>\n",
              "      <td>-16</td>\n",
              "      <td>-16</td>\n",
              "      <td>-15</td>\n",
              "      <td>-72</td>\n",
              "    </tr>\n",
              "    <tr>\n",
              "      <th>2815</th>\n",
              "      <td>-1</td>\n",
              "      <td>1</td>\n",
              "      <td>0</td>\n",
              "      <td>0</td>\n",
              "      <td>0</td>\n",
              "      <td>-6</td>\n",
              "      <td>-1</td>\n",
              "      <td>1</td>\n",
              "      <td>0</td>\n",
              "      <td>0</td>\n",
              "      <td>...</td>\n",
              "      <td>0</td>\n",
              "      <td>0</td>\n",
              "      <td>0</td>\n",
              "      <td>-6</td>\n",
              "      <td>-23</td>\n",
              "      <td>-21</td>\n",
              "      <td>-22</td>\n",
              "      <td>-23</td>\n",
              "      <td>-22</td>\n",
              "      <td>-27</td>\n",
              "    </tr>\n",
              "    <tr>\n",
              "      <th>1279</th>\n",
              "      <td>-16</td>\n",
              "      <td>-11</td>\n",
              "      <td>-13</td>\n",
              "      <td>-13</td>\n",
              "      <td>-13</td>\n",
              "      <td>-121</td>\n",
              "      <td>-9</td>\n",
              "      <td>-5</td>\n",
              "      <td>-7</td>\n",
              "      <td>-7</td>\n",
              "      <td>...</td>\n",
              "      <td>-9</td>\n",
              "      <td>-9</td>\n",
              "      <td>-8</td>\n",
              "      <td>-118</td>\n",
              "      <td>-127</td>\n",
              "      <td>-123</td>\n",
              "      <td>-125</td>\n",
              "      <td>-125</td>\n",
              "      <td>-125</td>\n",
              "      <td>-234</td>\n",
              "    </tr>\n",
              "    <tr>\n",
              "      <th>...</th>\n",
              "      <td>...</td>\n",
              "      <td>...</td>\n",
              "      <td>...</td>\n",
              "      <td>...</td>\n",
              "      <td>...</td>\n",
              "      <td>...</td>\n",
              "      <td>...</td>\n",
              "      <td>...</td>\n",
              "      <td>...</td>\n",
              "      <td>...</td>\n",
              "      <td>...</td>\n",
              "      <td>...</td>\n",
              "      <td>...</td>\n",
              "      <td>...</td>\n",
              "      <td>...</td>\n",
              "      <td>...</td>\n",
              "      <td>...</td>\n",
              "      <td>...</td>\n",
              "      <td>...</td>\n",
              "      <td>...</td>\n",
              "      <td>...</td>\n",
              "    </tr>\n",
              "    <tr>\n",
              "      <th>2192</th>\n",
              "      <td>0</td>\n",
              "      <td>0</td>\n",
              "      <td>0</td>\n",
              "      <td>1</td>\n",
              "      <td>0</td>\n",
              "      <td>-5</td>\n",
              "      <td>0</td>\n",
              "      <td>0</td>\n",
              "      <td>0</td>\n",
              "      <td>0</td>\n",
              "      <td>...</td>\n",
              "      <td>1</td>\n",
              "      <td>1</td>\n",
              "      <td>1</td>\n",
              "      <td>-4</td>\n",
              "      <td>-9</td>\n",
              "      <td>-9</td>\n",
              "      <td>-10</td>\n",
              "      <td>-9</td>\n",
              "      <td>-7</td>\n",
              "      <td>-13</td>\n",
              "    </tr>\n",
              "    <tr>\n",
              "      <th>2412</th>\n",
              "      <td>0</td>\n",
              "      <td>1</td>\n",
              "      <td>1</td>\n",
              "      <td>0</td>\n",
              "      <td>-1</td>\n",
              "      <td>-6</td>\n",
              "      <td>1</td>\n",
              "      <td>1</td>\n",
              "      <td>0</td>\n",
              "      <td>0</td>\n",
              "      <td>...</td>\n",
              "      <td>1</td>\n",
              "      <td>0</td>\n",
              "      <td>0</td>\n",
              "      <td>-4</td>\n",
              "      <td>21</td>\n",
              "      <td>20</td>\n",
              "      <td>20</td>\n",
              "      <td>19</td>\n",
              "      <td>20</td>\n",
              "      <td>16</td>\n",
              "    </tr>\n",
              "    <tr>\n",
              "      <th>1451</th>\n",
              "      <td>-16</td>\n",
              "      <td>-11</td>\n",
              "      <td>-14</td>\n",
              "      <td>-13</td>\n",
              "      <td>-13</td>\n",
              "      <td>-18</td>\n",
              "      <td>-10</td>\n",
              "      <td>-6</td>\n",
              "      <td>-9</td>\n",
              "      <td>-8</td>\n",
              "      <td>...</td>\n",
              "      <td>-11</td>\n",
              "      <td>-10</td>\n",
              "      <td>-9</td>\n",
              "      <td>-15</td>\n",
              "      <td>-117</td>\n",
              "      <td>-112</td>\n",
              "      <td>-115</td>\n",
              "      <td>-114</td>\n",
              "      <td>-114</td>\n",
              "      <td>-119</td>\n",
              "    </tr>\n",
              "    <tr>\n",
              "      <th>1390</th>\n",
              "      <td>-16</td>\n",
              "      <td>-11</td>\n",
              "      <td>-14</td>\n",
              "      <td>-13</td>\n",
              "      <td>-13</td>\n",
              "      <td>-19</td>\n",
              "      <td>-11</td>\n",
              "      <td>-6</td>\n",
              "      <td>-9</td>\n",
              "      <td>-7</td>\n",
              "      <td>...</td>\n",
              "      <td>-11</td>\n",
              "      <td>-10</td>\n",
              "      <td>-9</td>\n",
              "      <td>-16</td>\n",
              "      <td>-118</td>\n",
              "      <td>-112</td>\n",
              "      <td>-115</td>\n",
              "      <td>-114</td>\n",
              "      <td>-115</td>\n",
              "      <td>-120</td>\n",
              "    </tr>\n",
              "    <tr>\n",
              "      <th>1024</th>\n",
              "      <td>0</td>\n",
              "      <td>0</td>\n",
              "      <td>-2</td>\n",
              "      <td>-1</td>\n",
              "      <td>-2</td>\n",
              "      <td>-91</td>\n",
              "      <td>1</td>\n",
              "      <td>0</td>\n",
              "      <td>-1</td>\n",
              "      <td>0</td>\n",
              "      <td>...</td>\n",
              "      <td>-1</td>\n",
              "      <td>0</td>\n",
              "      <td>0</td>\n",
              "      <td>-89</td>\n",
              "      <td>-102</td>\n",
              "      <td>-103</td>\n",
              "      <td>-105</td>\n",
              "      <td>-104</td>\n",
              "      <td>-105</td>\n",
              "      <td>-194</td>\n",
              "    </tr>\n",
              "  </tbody>\n",
              "</table>\n",
              "<p>661 rows × 36 columns</p>\n",
              "</div>\n",
              "      <button class=\"colab-df-convert\" onclick=\"convertToInteractive('df-aba31501-360a-4216-91c0-d7f86251b3e0')\"\n",
              "              title=\"Convert this dataframe to an interactive table.\"\n",
              "              style=\"display:none;\">\n",
              "        \n",
              "  <svg xmlns=\"http://www.w3.org/2000/svg\" height=\"24px\"viewBox=\"0 0 24 24\"\n",
              "       width=\"24px\">\n",
              "    <path d=\"M0 0h24v24H0V0z\" fill=\"none\"/>\n",
              "    <path d=\"M18.56 5.44l.94 2.06.94-2.06 2.06-.94-2.06-.94-.94-2.06-.94 2.06-2.06.94zm-11 1L8.5 8.5l.94-2.06 2.06-.94-2.06-.94L8.5 2.5l-.94 2.06-2.06.94zm10 10l.94 2.06.94-2.06 2.06-.94-2.06-.94-.94-2.06-.94 2.06-2.06.94z\"/><path d=\"M17.41 7.96l-1.37-1.37c-.4-.4-.92-.59-1.43-.59-.52 0-1.04.2-1.43.59L10.3 9.45l-7.72 7.72c-.78.78-.78 2.05 0 2.83L4 21.41c.39.39.9.59 1.41.59.51 0 1.02-.2 1.41-.59l7.78-7.78 2.81-2.81c.8-.78.8-2.07 0-2.86zM5.41 20L4 18.59l7.72-7.72 1.47 1.35L5.41 20z\"/>\n",
              "  </svg>\n",
              "      </button>\n",
              "      \n",
              "  <style>\n",
              "    .colab-df-container {\n",
              "      display:flex;\n",
              "      flex-wrap:wrap;\n",
              "      gap: 12px;\n",
              "    }\n",
              "\n",
              "    .colab-df-convert {\n",
              "      background-color: #E8F0FE;\n",
              "      border: none;\n",
              "      border-radius: 50%;\n",
              "      cursor: pointer;\n",
              "      display: none;\n",
              "      fill: #1967D2;\n",
              "      height: 32px;\n",
              "      padding: 0 0 0 0;\n",
              "      width: 32px;\n",
              "    }\n",
              "\n",
              "    .colab-df-convert:hover {\n",
              "      background-color: #E2EBFA;\n",
              "      box-shadow: 0px 1px 2px rgba(60, 64, 67, 0.3), 0px 1px 3px 1px rgba(60, 64, 67, 0.15);\n",
              "      fill: #174EA6;\n",
              "    }\n",
              "\n",
              "    [theme=dark] .colab-df-convert {\n",
              "      background-color: #3B4455;\n",
              "      fill: #D2E3FC;\n",
              "    }\n",
              "\n",
              "    [theme=dark] .colab-df-convert:hover {\n",
              "      background-color: #434B5C;\n",
              "      box-shadow: 0px 1px 3px 1px rgba(0, 0, 0, 0.15);\n",
              "      filter: drop-shadow(0px 1px 2px rgba(0, 0, 0, 0.3));\n",
              "      fill: #FFFFFF;\n",
              "    }\n",
              "  </style>\n",
              "\n",
              "      <script>\n",
              "        const buttonEl =\n",
              "          document.querySelector('#df-aba31501-360a-4216-91c0-d7f86251b3e0 button.colab-df-convert');\n",
              "        buttonEl.style.display =\n",
              "          google.colab.kernel.accessAllowed ? 'block' : 'none';\n",
              "\n",
              "        async function convertToInteractive(key) {\n",
              "          const element = document.querySelector('#df-aba31501-360a-4216-91c0-d7f86251b3e0');\n",
              "          const dataTable =\n",
              "            await google.colab.kernel.invokeFunction('convertToInteractive',\n",
              "                                                     [key], {});\n",
              "          if (!dataTable) return;\n",
              "\n",
              "          const docLinkHtml = 'Like what you see? Visit the ' +\n",
              "            '<a target=\"_blank\" href=https://colab.research.google.com/notebooks/data_table.ipynb>data table notebook</a>'\n",
              "            + ' to learn more about interactive tables.';\n",
              "          element.innerHTML = '';\n",
              "          dataTable['output_type'] = 'display_data';\n",
              "          await google.colab.output.renderOutput(dataTable, element);\n",
              "          const docLink = document.createElement('div');\n",
              "          docLink.innerHTML = docLinkHtml;\n",
              "          element.appendChild(docLink);\n",
              "        }\n",
              "      </script>\n",
              "    </div>\n",
              "  </div>\n",
              "  "
            ]
          },
          "metadata": {},
          "execution_count": 40
        }
      ]
    },
    {
      "cell_type": "code",
      "metadata": {
        "id": "gD60bE8cXQId",
        "colab": {
          "base_uri": "https://localhost:8080/"
        },
        "outputId": "cbd7ca33-26a5-4742-9233-77e98a77e611"
      },
      "source": [
        "# We'll use Keras to create a simple model architecture\n",
        "model_1 = tf.keras.Sequential()\n",
        "model_1.add(keras.layers.Dense(16, activation='relu', input_shape=(36,)))\n",
        "# model_1.add(keras.layers.Dense(10, activation='relu'))\n",
        "# model_1.add(keras.layers.Dense(8, activation='relu'))\n",
        "# model_1.add(keras.layers.Dense(6, activation='relu'))\n",
        "model_1.add(keras.layers.Dense(3, activation='relu'))\n",
        "\n",
        "model_1.compile(optimizer='adam', loss='sparse_categorical_crossentropy', metrics=['accuracy'])\n",
        "print(model_1.summary())"
      ],
      "execution_count": 41,
      "outputs": [
        {
          "output_type": "stream",
          "name": "stdout",
          "text": [
            "Model: \"sequential_1\"\n",
            "_________________________________________________________________\n",
            "Layer (type)                 Output Shape              Param #   \n",
            "=================================================================\n",
            "dense_3 (Dense)              (None, 16)                592       \n",
            "_________________________________________________________________\n",
            "dense_4 (Dense)              (None, 3)                 51        \n",
            "=================================================================\n",
            "Total params: 643\n",
            "Trainable params: 643\n",
            "Non-trainable params: 0\n",
            "_________________________________________________________________\n",
            "None\n"
          ]
        }
      ]
    },
    {
      "cell_type": "markdown",
      "metadata": {
        "id": "O0idLyRLQeGj"
      },
      "source": [
        "### 2. Train the Model\n"
      ]
    },
    {
      "cell_type": "code",
      "source": [
        "y_validate.value_counts()"
      ],
      "metadata": {
        "colab": {
          "base_uri": "https://localhost:8080/"
        },
        "id": "SF-oPcaZD3tN",
        "outputId": "1ed2a964-449c-404f-b903-100bfd295d2d"
      },
      "execution_count": 42,
      "outputs": [
        {
          "output_type": "execute_result",
          "data": {
            "text/plain": [
              "0    364\n",
              "1    191\n",
              "2    108\n",
              "Name: 36, dtype: int64"
            ]
          },
          "metadata": {},
          "execution_count": 42
        }
      ]
    },
    {
      "cell_type": "code",
      "source": [],
      "metadata": {
        "id": "sriwIpAMlM_M"
      },
      "execution_count": 42,
      "outputs": []
    },
    {
      "cell_type": "code",
      "metadata": {
        "id": "p8hQKr4cVOdE",
        "outputId": "8a91f223-3168-49b1-997a-96b2766ac936",
        "colab": {
          "base_uri": "https://localhost:8080/"
        }
      },
      "source": [
        "# Train the model on our training data while validating on our validation set\n",
        "history_1 = model_1.fit(x_train, y_train, epochs=30, batch_size=16,\n",
        "                        validation_data=(x_validate, y_validate))\n",
        "model_1.save(MODEL_TF)"
      ],
      "execution_count": 43,
      "outputs": [
        {
          "output_type": "stream",
          "name": "stdout",
          "text": [
            "Epoch 1/30\n",
            "124/124 [==============================] - 1s 4ms/step - loss: 3.9957 - accuracy: 0.5652 - val_loss: 3.4556 - val_accuracy: 0.6018\n",
            "Epoch 2/30\n",
            "124/124 [==============================] - 0s 2ms/step - loss: 3.3566 - accuracy: 0.6138 - val_loss: 2.8038 - val_accuracy: 0.6063\n",
            "Epoch 3/30\n",
            "124/124 [==============================] - 0s 2ms/step - loss: 2.8523 - accuracy: 0.6094 - val_loss: 2.8032 - val_accuracy: 0.6033\n",
            "Epoch 4/30\n",
            "124/124 [==============================] - 0s 4ms/step - loss: 2.9059 - accuracy: 0.6215 - val_loss: 2.7990 - val_accuracy: 0.6078\n",
            "Epoch 5/30\n",
            "124/124 [==============================] - 0s 2ms/step - loss: 2.8995 - accuracy: 0.6221 - val_loss: 2.7999 - val_accuracy: 0.6094\n",
            "Epoch 6/30\n",
            "124/124 [==============================] - 0s 2ms/step - loss: 3.0855 - accuracy: 0.6108 - val_loss: 2.8097 - val_accuracy: 0.6214\n",
            "Epoch 7/30\n",
            "124/124 [==============================] - 0s 2ms/step - loss: 2.9397 - accuracy: 0.6701 - val_loss: 2.6934 - val_accuracy: 0.7285\n",
            "Epoch 8/30\n",
            "124/124 [==============================] - 0s 2ms/step - loss: 2.4363 - accuracy: 0.7495 - val_loss: 2.6931 - val_accuracy: 0.7255\n",
            "Epoch 9/30\n",
            "124/124 [==============================] - 0s 2ms/step - loss: 2.7483 - accuracy: 0.7190 - val_loss: 2.6928 - val_accuracy: 0.7255\n",
            "Epoch 10/30\n",
            "124/124 [==============================] - 0s 2ms/step - loss: 2.7965 - accuracy: 0.7229 - val_loss: 2.6926 - val_accuracy: 0.7300\n",
            "Epoch 11/30\n",
            "124/124 [==============================] - 0s 4ms/step - loss: 2.8616 - accuracy: 0.7186 - val_loss: 2.6925 - val_accuracy: 0.7315\n",
            "Epoch 12/30\n",
            "124/124 [==============================] - 0s 3ms/step - loss: 2.7722 - accuracy: 0.7301 - val_loss: 2.6924 - val_accuracy: 0.7300\n",
            "Epoch 13/30\n",
            "124/124 [==============================] - 0s 4ms/step - loss: 2.9935 - accuracy: 0.7081 - val_loss: 2.6924 - val_accuracy: 0.7300\n",
            "Epoch 14/30\n",
            "124/124 [==============================] - 0s 3ms/step - loss: 2.5647 - accuracy: 0.7346 - val_loss: 2.6924 - val_accuracy: 0.7300\n",
            "Epoch 15/30\n",
            "124/124 [==============================] - 0s 4ms/step - loss: 2.7647 - accuracy: 0.7077 - val_loss: 2.6924 - val_accuracy: 0.7300\n",
            "Epoch 16/30\n",
            "124/124 [==============================] - 0s 4ms/step - loss: 2.8005 - accuracy: 0.7115 - val_loss: 2.6924 - val_accuracy: 0.7300\n",
            "Epoch 17/30\n",
            "124/124 [==============================] - 0s 4ms/step - loss: 2.7131 - accuracy: 0.7203 - val_loss: 2.6924 - val_accuracy: 0.7300\n",
            "Epoch 18/30\n",
            "124/124 [==============================] - 0s 3ms/step - loss: 2.7681 - accuracy: 0.7277 - val_loss: 2.6924 - val_accuracy: 0.7300\n",
            "Epoch 19/30\n",
            "124/124 [==============================] - 0s 3ms/step - loss: 3.0149 - accuracy: 0.7017 - val_loss: 2.6924 - val_accuracy: 0.7300\n",
            "Epoch 20/30\n",
            "124/124 [==============================] - 1s 4ms/step - loss: 2.7767 - accuracy: 0.7377 - val_loss: 2.6924 - val_accuracy: 0.7300\n",
            "Epoch 21/30\n",
            "124/124 [==============================] - 1s 5ms/step - loss: 2.7427 - accuracy: 0.7301 - val_loss: 2.6924 - val_accuracy: 0.7300\n",
            "Epoch 22/30\n",
            "124/124 [==============================] - 1s 5ms/step - loss: 2.6166 - accuracy: 0.7358 - val_loss: 2.6924 - val_accuracy: 0.7300\n",
            "Epoch 23/30\n",
            "124/124 [==============================] - 1s 5ms/step - loss: 2.6249 - accuracy: 0.7303 - val_loss: 2.6924 - val_accuracy: 0.7300\n",
            "Epoch 24/30\n",
            "124/124 [==============================] - 1s 5ms/step - loss: 2.8579 - accuracy: 0.7199 - val_loss: 2.6924 - val_accuracy: 0.7300\n",
            "Epoch 25/30\n",
            "124/124 [==============================] - 1s 5ms/step - loss: 2.8560 - accuracy: 0.7104 - val_loss: 2.6924 - val_accuracy: 0.7300\n",
            "Epoch 26/30\n",
            "124/124 [==============================] - 1s 4ms/step - loss: 3.0396 - accuracy: 0.7151 - val_loss: 2.6924 - val_accuracy: 0.7300\n",
            "Epoch 27/30\n",
            "124/124 [==============================] - 1s 5ms/step - loss: 2.7595 - accuracy: 0.7248 - val_loss: 2.6924 - val_accuracy: 0.7300\n",
            "Epoch 28/30\n",
            "124/124 [==============================] - 1s 4ms/step - loss: 2.5905 - accuracy: 0.7282 - val_loss: 2.6924 - val_accuracy: 0.7300\n",
            "Epoch 29/30\n",
            "124/124 [==============================] - 0s 3ms/step - loss: 2.6637 - accuracy: 0.7225 - val_loss: 2.6925 - val_accuracy: 0.7300\n",
            "Epoch 30/30\n",
            "124/124 [==============================] - 0s 4ms/step - loss: 2.7503 - accuracy: 0.7231 - val_loss: 2.6925 - val_accuracy: 0.7300\n"
          ]
        }
      ]
    },
    {
      "cell_type": "code",
      "source": [
        "history_1.history"
      ],
      "metadata": {
        "id": "VXFC7MMeKOow",
        "colab": {
          "base_uri": "https://localhost:8080/"
        },
        "outputId": "d4b76657-9321-4d5a-a3dd-1d32c8ef0533"
      },
      "execution_count": 44,
      "outputs": [
        {
          "output_type": "execute_result",
          "data": {
            "text/plain": [
              "{'loss': [3.730778932571411,\n",
              "  3.135476589202881,\n",
              "  2.837120294570923,\n",
              "  2.8198304176330566,\n",
              "  2.818143606185913,\n",
              "  2.833752393722534,\n",
              "  2.7913570404052734,\n",
              "  2.7361953258514404,\n",
              "  2.736067056655884,\n",
              "  2.7359671592712402,\n",
              "  2.7359161376953125,\n",
              "  2.735891819000244,\n",
              "  2.735886812210083,\n",
              "  2.73588490486145,\n",
              "  2.735886335372925,\n",
              "  2.7358851432800293,\n",
              "  2.7358853816986084,\n",
              "  2.7358858585357666,\n",
              "  2.7358853816986084,\n",
              "  2.73588490486145,\n",
              "  2.735884666442871,\n",
              "  2.7358856201171875,\n",
              "  2.7358860969543457,\n",
              "  2.7358858585357666,\n",
              "  2.7358858585357666,\n",
              "  2.7358858585357666,\n",
              "  2.7358860969543457,\n",
              "  2.7358858585357666,\n",
              "  2.7358858585357666,\n",
              "  2.7358856201171875],\n",
              " 'accuracy': [0.6013104915618896,\n",
              "  0.6159273982048035,\n",
              "  0.6174395084381104,\n",
              "  0.617943525314331,\n",
              "  0.6209677457809448,\n",
              "  0.6234878897666931,\n",
              "  0.6935483813285828,\n",
              "  0.7197580933570862,\n",
              "  0.7227822542190552,\n",
              "  0.7222782373428345,\n",
              "  0.7242943644523621,\n",
              "  0.7253023982048035,\n",
              "  0.7247983813285828,\n",
              "  0.7247983813285828,\n",
              "  0.7247983813285828,\n",
              "  0.7247983813285828,\n",
              "  0.7247983813285828,\n",
              "  0.7247983813285828,\n",
              "  0.7247983813285828,\n",
              "  0.7247983813285828,\n",
              "  0.7247983813285828,\n",
              "  0.7247983813285828,\n",
              "  0.7247983813285828,\n",
              "  0.7247983813285828,\n",
              "  0.7247983813285828,\n",
              "  0.7247983813285828,\n",
              "  0.7247983813285828,\n",
              "  0.7247983813285828,\n",
              "  0.7247983813285828,\n",
              "  0.7247983813285828],\n",
              " 'val_loss': [3.4555723667144775,\n",
              "  2.8038341999053955,\n",
              "  2.803158760070801,\n",
              "  2.7990055084228516,\n",
              "  2.7998852729797363,\n",
              "  2.8097386360168457,\n",
              "  2.693436622619629,\n",
              "  2.693068742752075,\n",
              "  2.6928353309631348,\n",
              "  2.692636489868164,\n",
              "  2.6924867630004883,\n",
              "  2.692422866821289,\n",
              "  2.692378520965576,\n",
              "  2.6923844814300537,\n",
              "  2.692389965057373,\n",
              "  2.692394733428955,\n",
              "  2.6924006938934326,\n",
              "  2.692406177520752,\n",
              "  2.6924116611480713,\n",
              "  2.6924164295196533,\n",
              "  2.6924216747283936,\n",
              "  2.6924257278442383,\n",
              "  2.692429304122925,\n",
              "  2.692434072494507,\n",
              "  2.6924386024475098,\n",
              "  2.6924421787261963,\n",
              "  2.692445993423462,\n",
              "  2.6924495697021484,\n",
              "  2.692453622817993,\n",
              "  2.6924569606781006],\n",
              " 'val_accuracy': [0.6018099784851074,\n",
              "  0.6063348650932312,\n",
              "  0.6033182740211487,\n",
              "  0.6078431606292725,\n",
              "  0.6093514561653137,\n",
              "  0.6214178204536438,\n",
              "  0.7285068035125732,\n",
              "  0.7254902124404907,\n",
              "  0.7254902124404907,\n",
              "  0.7300150990486145,\n",
              "  0.7315233945846558,\n",
              "  0.7300150990486145,\n",
              "  0.7300150990486145,\n",
              "  0.7300150990486145,\n",
              "  0.7300150990486145,\n",
              "  0.7300150990486145,\n",
              "  0.7300150990486145,\n",
              "  0.7300150990486145,\n",
              "  0.7300150990486145,\n",
              "  0.7300150990486145,\n",
              "  0.7300150990486145,\n",
              "  0.7300150990486145,\n",
              "  0.7300150990486145,\n",
              "  0.7300150990486145,\n",
              "  0.7300150990486145,\n",
              "  0.7300150990486145,\n",
              "  0.7300150990486145,\n",
              "  0.7300150990486145,\n",
              "  0.7300150990486145,\n",
              "  0.7300150990486145]}"
            ]
          },
          "metadata": {},
          "execution_count": 44
        }
      ]
    },
    {
      "cell_type": "markdown",
      "metadata": {
        "id": "cRE8KpEqVfaS"
      },
      "source": [
        "### 3. Plot Metrics"
      ]
    },
    {
      "cell_type": "code",
      "metadata": {
        "id": "CmvA-ksoln8r",
        "colab": {
          "base_uri": "https://localhost:8080/",
          "height": 295
        },
        "outputId": "040933bc-78db-4b2b-8338-83b2bb090201"
      },
      "source": [
        "# Draw a graph of the loss, which is the distance between\n",
        "# the predicted and actual values during training and validation.\n",
        "train_loss = history_1.history['loss']\n",
        "val_loss = history_1.history['val_loss']\n",
        "\n",
        "epochs = range(1, len(train_loss) + 1)\n",
        "\n",
        "plt.plot(epochs, train_loss, 'g.', label='Training loss')\n",
        "plt.plot(epochs, val_loss, 'b', label='Validation loss')\n",
        "plt.title('Training and validation loss')\n",
        "plt.xlabel('Epochs')\n",
        "plt.ylabel('Loss')\n",
        "plt.legend()\n",
        "plt.show()"
      ],
      "execution_count": 45,
      "outputs": [
        {
          "output_type": "display_data",
          "data": {
            "text/plain": [
              "<Figure size 432x288 with 1 Axes>"
            ],
            "image/png": "[encoded data removed]"
          },
          "metadata": {
            "needs_background": "light"
          }
        }
      ]
    },
    {
      "cell_type": "code",
      "metadata": {
        "id": "Zo0RYroFZYIV",
        "colab": {
          "base_uri": "https://localhost:8080/",
          "height": 295
        },
        "outputId": "5210f934-351f-47bb-c9bb-ca747f5eee71"
      },
      "source": [
        "# Exclude the first few epochs so the graph is easier to read\n",
        "SKIP = 2\n",
        "\n",
        "plt.plot(epochs[SKIP:], train_loss[SKIP:], 'g.', label='Training loss')\n",
        "plt.plot(epochs[SKIP:], val_loss[SKIP:], 'b.', label='Validation loss')\n",
        "plt.title('Training and validation loss')\n",
        "plt.xlabel('Epochs')\n",
        "plt.ylabel('Loss')\n",
        "plt.legend()\n",
        "plt.show()"
      ],
      "execution_count": 46,
      "outputs": [
        {
          "output_type": "display_data",
          "data": {
            "text/plain": [
              "<Figure size 432x288 with 1 Axes>"
            ],
            "image/png": "[encoded data removed]"
          },
          "metadata": {
            "needs_background": "light"
          }
        }
      ]
    },
    {
      "cell_type": "code",
      "metadata": {
        "id": "Md9E_azmpkZU",
        "colab": {
          "base_uri": "https://localhost:8080/",
          "height": 295
        },
        "outputId": "86907119-bbd7-476a-b722-11aeb779e16d"
      },
      "source": [
        "plt.clf()\n",
        "\n",
        "# Draw a graph of mean absolute error, which is another way of\n",
        "# measuring the amount of error in the prediction.\n",
        "train_acc = history_1.history['accuracy']\n",
        "val_acc = history_1.history['val_accuracy']\n",
        "\n",
        "plt.plot(epochs[SKIP:], train_acc[SKIP:], 'g.', label='Training Acc')\n",
        "plt.plot(epochs[SKIP:], val_acc[SKIP:], 'b.', label='Validation Acc')\n",
        "plt.title('Training and validation Acc')\n",
        "plt.xlabel('Epochs')\n",
        "plt.ylabel('Accuracy')\n",
        "plt.legend()\n",
        "plt.show()"
      ],
      "execution_count": 47,
      "outputs": [
        {
          "output_type": "display_data",
          "data": {
            "text/plain": [
              "<Figure size 432x288 with 1 Axes>"
            ],
            "image/png": "[encoded data removed]"
          },
          "metadata": {
            "needs_background": "light"
          }
        }
      ]
    },
    {
      "cell_type": "code",
      "source": [
        "y_test.value_counts()"
      ],
      "metadata": {
        "colab": {
          "base_uri": "https://localhost:8080/"
        },
        "id": "bL12w-SDlSBG",
        "outputId": "b0092063-6e36-4e8c-b81a-4a09426a44a2"
      },
      "execution_count": 48,
      "outputs": [
        {
          "output_type": "execute_result",
          "data": {
            "text/plain": [
              "0    319\n",
              "1    216\n",
              "2    126\n",
              "Name: 36, dtype: int64"
            ]
          },
          "metadata": {},
          "execution_count": 48
        }
      ]
    },
    {
      "cell_type": "code",
      "source": [
        "from tensorflow.keras.models import load_model"
      ],
      "metadata": {
        "id": "v43zwNIjq0QE"
      },
      "execution_count": 49,
      "outputs": []
    },
    {
      "cell_type": "code",
      "source": [
        "m = load_model(MODEL_TF)\n",
        "model_1 = m"
      ],
      "metadata": {
        "id": "YEUJa9suqOZh"
      },
      "execution_count": 50,
      "outputs": []
    },
    {
      "cell_type": "code",
      "metadata": {
        "id": "i13eVIT3B9Mj",
        "colab": {
          "base_uri": "https://localhost:8080/"
        },
        "outputId": "3d0d7a58-250e-4897-a183-6e0549efce42"
      },
      "source": [
        "# Calculate and print the loss on our test dataset\n",
        "test_loss, test_acc = model_1.evaluate(x_test, y_test)\n",
        "\n",
        "# Make predictions based on our test dataset\n",
        "y_test_pred = np.argmax(model_1.predict(x_test), axis=1)\n",
        "\n",
        "# # Graph the predictions against the actual values\n",
        "# plt.clf()\n",
        "# plt.title('Comparison of predictions and actual values')\n",
        "# plt.plot(x_test, y_test, 'b.', label='Actual values')\n",
        "# # plt.plot(x_test, y_test, 'b.')\n",
        "# plt.plot(x_test, y_test_pred, 'r.', label='TF predictions')\n",
        "# plt.legend()\n",
        "# plt.show()"
      ],
      "execution_count": 51,
      "outputs": [
        {
          "output_type": "stream",
          "name": "stdout",
          "text": [
            "21/21 [==============================] - 0s 2ms/step - loss: 2.9784 - accuracy: 0.6853\n"
          ]
        }
      ]
    },
    {
      "cell_type": "code",
      "source": [
        "pd.DataFrame(y_test_pred).value_counts()"
      ],
      "metadata": {
        "id": "fupfueW5kIsT",
        "colab": {
          "base_uri": "https://localhost:8080/"
        },
        "outputId": "814ae5b5-d17d-47c9-f6a0-06330a16aa9a"
      },
      "execution_count": 52,
      "outputs": [
        {
          "output_type": "execute_result",
          "data": {
            "text/plain": [
              "0    492\n",
              "1    145\n",
              "2     24\n",
              "dtype: int64"
            ]
          },
          "metadata": {},
          "execution_count": 52
        }
      ]
    },
    {
      "cell_type": "code",
      "source": [
        "pd.DataFrame(y_test).value_counts()"
      ],
      "metadata": {
        "colab": {
          "base_uri": "https://localhost:8080/"
        },
        "id": "rj-BCpKmX8vy",
        "outputId": "83297a5e-a8ce-4c0a-827c-d099b97b553c"
      },
      "execution_count": 53,
      "outputs": [
        {
          "output_type": "execute_result",
          "data": {
            "text/plain": [
              "36\n",
              "0     319\n",
              "1     216\n",
              "2     126\n",
              "dtype: int64"
            ]
          },
          "metadata": {},
          "execution_count": 53
        }
      ]
    },
    {
      "cell_type": "code",
      "source": [
        "test_acc"
      ],
      "metadata": {
        "colab": {
          "base_uri": "https://localhost:8080/"
        },
        "id": "UJ-57ebDm7bP",
        "outputId": "b845589e-0025-4b30-c06d-6426b0bea391"
      },
      "execution_count": 54,
      "outputs": [
        {
          "output_type": "execute_result",
          "data": {
            "text/plain": [
              "0.6853252649307251"
            ]
          },
          "metadata": {},
          "execution_count": 54
        }
      ]
    },
    {
      "cell_type": "markdown",
      "metadata": {
        "id": "sHe-Wv47rhm8"
      },
      "source": [
        "### 1. Generate Models without Quantization\n"
      ]
    },
    {
      "cell_type": "code",
      "metadata": {
        "id": "1muAoUm8lSXL",
        "colab": {
          "base_uri": "https://localhost:8080/"
        },
        "outputId": "7cf92453-a6cd-4338-952e-305ca92644ab"
      },
      "source": [
        "# Convert the model to the TensorFlow Lite format without quantization\n",
        "converter = tf.lite.TFLiteConverter.from_saved_model(MODEL_TF)\n",
        "model_no_quant_tflite = converter.convert()\n",
        "\n",
        "# Save the model to disk\n",
        "open(MODEL_NO_QUANT_TFLITE, \"wb\").write(model_no_quant_tflite)\n",
        "\n",
        "# # Convert the model to the TensorFlow Lite format with quantization\n",
        "# def representative_dataset():\n",
        "#   for i in range(500):\n",
        "# #    yield([x_train[i].values.reshape(35, 1)])\n",
        "#     yield(x_train[i])\n",
        "# # Set the optimization flag.\n",
        "# converter.optimizations = [tf.lite.Optimize.DEFAULT]\n",
        "# # Enforce integer only quantization\n",
        "# converter.target_spec.supported_ops = [tf.lite.OpsSet.TFLITE_BUILTINS_INT8]\n",
        "# converter.inference_input_type = tf.int8\n",
        "# converter.inference_output_type = tf.int8\n",
        "# # Provide a representative dataset to ensure we quantize correctly.\n",
        "# converter.representative_dataset = representative_dataset\n",
        "# model_tflite = converter.convert()\n",
        "\n",
        "# # Save the model to disk\n",
        "# open(MODEL_TFLITE, \"wb\").write(model_tflite)"
      ],
      "execution_count": 55,
      "outputs": [
        {
          "output_type": "execute_result",
          "data": {
            "text/plain": [
              "3784"
            ]
          },
          "metadata": {},
          "execution_count": 55
        }
      ]
    },
    {
      "cell_type": "code",
      "metadata": {
        "id": "wEXiJ8dFkL2R",
        "colab": {
          "base_uri": "https://localhost:8080/"
        },
        "outputId": "c5bd1a7a-1403-470a-d2ac-38714b344335"
      },
      "source": [
        "# Calculate size\n",
        "size_tf = os.path.getsize(MODEL_TF)\n",
        "size_no_quant_tflite = os.path.getsize(MODEL_NO_QUANT_TFLITE)\n",
        "# size_tflite = os.path.getsize(MODEL_TFLITE)\n",
        "print(size_tf)\n",
        "print(size_no_quant_tflite)"
      ],
      "execution_count": 56,
      "outputs": [
        {
          "output_type": "stream",
          "name": "stdout",
          "text": [
            "4096\n",
            "3784\n"
          ]
        }
      ]
    },
    {
      "cell_type": "markdown",
      "metadata": {
        "id": "qXdmfo7imGMB"
      },
      "source": [
        "**Summary**"
      ]
    },
    {
      "cell_type": "markdown",
      "metadata": {
        "id": "HPSFmDL7pv2L"
      },
      "source": [
        "## Generate a TensorFlow Lite for Microcontrollers Model\n",
        "Convert the TensorFlow Lite quantized model into a C source file that can be loaded by TensorFlow Lite for Microcontrollers."
      ]
    },
    {
      "cell_type": "code",
      "metadata": {
        "id": "j1FB4ieeg0lw",
        "colab": {
          "base_uri": "https://localhost:8080/"
        },
        "outputId": "b4f1850a-1c7d-418d-9f9a-69334f7758a2"
      },
      "source": [
        "# Install xxd if it is not available\n",
        "!apt-get update && apt-get -qq install xxd\n",
        "# Convert to a C source file, i.e, a TensorFlow Lite for Microcontrollers model\n",
        "!xxd -i {MODEL_NO_QUANT_TFLITE} > {MODEL_TFLITE_MICRO}\n",
        "# Update variable names\n",
        "REPLACE_TEXT = MODEL_TFLITE.replace('/', '_').replace('.', '_')\n",
        "!sed -i 's/'{REPLACE_TEXT}'/g_model/g' {MODEL_TFLITE_MICRO}"
      ],
      "execution_count": 57,
      "outputs": [
        {
          "output_type": "stream",
          "name": "stdout",
          "text": [
            "\r0% [Working]\r            \rGet:1 http://security.ubuntu.com/ubuntu bionic-security InRelease [88.7 kB]\n",
            "\r0% [Connecting to archive.ubuntu.com (185.125.190.36)] [1 InRelease 14.2 kB/88.\r                                                                               \rHit:2 https://cloud.r-project.org/bin/linux/ubuntu bionic-cran40/ InRelease\n",
            "\r0% [Waiting for headers] [1 InRelease 88.7 kB/88.7 kB 100%] [Waiting for header\r                                                                               \rHit:3 http://ppa.launchpad.net/c2d4u.team/c2d4u4.0+/ubuntu bionic InRelease\n",
            "\r0% [Waiting for headers] [Waiting for headers] [Connecting to ppa.launchpad.net\r0% [2 InRelease gpgv 3,626 B] [Waiting for headers] [Waiting for headers] [Conn\r                                                                               \rIgn:4 https://developer.download.nvidia.com/compute/machine-learning/repos/ubuntu1804/x86_64  InRelease\n",
            "\r0% [2 InRelease gpgv 3,626 B] [Waiting for headers] [Waiting for headers] [Conn\r                                                                               \rHit:5 http://archive.ubuntu.com/ubuntu bionic InRelease\n",
            "\r0% [2 InRelease gpgv 3,626 B] [Waiting for headers] [Waiting for headers] [Conn\r                                                                               \rHit:6 https://developer.download.nvidia.com/compute/cuda/repos/ubuntu1804/x86_64  InRelease\n",
            "Hit:7 https://developer.download.nvidia.com/compute/machine-learning/repos/ubuntu1804/x86_64  Release\n",
            "Get:8 http://archive.ubuntu.com/ubuntu bionic-updates InRelease [88.7 kB]\n",
            "Hit:9 http://ppa.launchpad.net/cran/libgit2/ubuntu bionic InRelease\n",
            "Hit:10 http://ppa.launchpad.net/deadsnakes/ppa/ubuntu bionic InRelease\n",
            "Get:11 http://archive.ubuntu.com/ubuntu bionic-backports InRelease [83.3 kB]\n",
            "Hit:12 http://ppa.launchpad.net/graphics-drivers/ppa/ubuntu bionic InRelease\n",
            "Fetched 261 kB in 4s (62.7 kB/s)\n",
            "Reading package lists... Done\n"
          ]
        }
      ]
    },
    {
      "cell_type": "markdown",
      "metadata": {
        "id": "JvRy0ZyMhQOX"
      },
      "source": [
        "## Deploy to a Microcontroller\n"
      ]
    },
    {
      "cell_type": "code",
      "metadata": {
        "id": "l4-WhtGpvb-E",
        "colab": {
          "base_uri": "https://localhost:8080/"
        },
        "outputId": "0eaaaf7c-c0f0-4eda-a409-da7a484a3d1a"
      },
      "source": [
        "# Print the C source file\n",
        "!cat {MODEL_TFLITE_MICRO}"
      ],
      "execution_count": 58,
      "outputs": [
        {
          "output_type": "stream",
          "name": "stdout",
          "text": [
            "unsigned char models_model_no_quant_tflite[] = {\n",
            "  0x1c, 0x00, 0x00, 0x00, 0x54, 0x46, 0x4c, 0x33, 0x14, 0x00, 0x20, 0x00,\n",
            "  0x04, 0x00, 0x08, 0x00, 0x0c, 0x00, 0x10, 0x00, 0x14, 0x00, 0x00, 0x00,\n",
            "  0x18, 0x00, 0x1c, 0x00, 0x14, 0x00, 0x00, 0x00, 0x03, 0x00, 0x00, 0x00,\n",
            "  0x18, 0x00, 0x00, 0x00, 0x1c, 0x00, 0x00, 0x00, 0x2c, 0x01, 0x00, 0x00,\n",
            "  0x1c, 0x00, 0x00, 0x00, 0xd4, 0x00, 0x00, 0x00, 0x3c, 0x00, 0x00, 0x00,\n",
            "  0x01, 0x00, 0x00, 0x00, 0x88, 0x02, 0x00, 0x00, 0x01, 0x00, 0x00, 0x00,\n",
            "  0x34, 0x01, 0x00, 0x00, 0x09, 0x00, 0x00, 0x00, 0x74, 0x0e, 0x00, 0x00,\n",
            "  0x70, 0x0e, 0x00, 0x00, 0xa0, 0x0d, 0x00, 0x00, 0x10, 0x0d, 0x00, 0x00,\n",
            "  0xc8, 0x03, 0x00, 0x00, 0xc0, 0x02, 0x00, 0x00, 0x5c, 0x0e, 0x00, 0x00,\n",
            "  0x58, 0x0e, 0x00, 0x00, 0xcc, 0x00, 0x00, 0x00, 0x01, 0x00, 0x00, 0x00,\n",
            "  0x10, 0x00, 0x00, 0x00, 0x0c, 0x00, 0x14, 0x00, 0x10, 0x00, 0x0c, 0x00,\n",
            "  0x08, 0x00, 0x04, 0x00, 0x0c, 0x00, 0x00, 0x00, 0x10, 0x00, 0x00, 0x00,\n",
            "  0x18, 0x00, 0x00, 0x00, 0x28, 0x00, 0x00, 0x00, 0x2c, 0x00, 0x00, 0x00,\n",
            "  0x05, 0x00, 0x00, 0x00, 0x73, 0x65, 0x72, 0x76, 0x65, 0x00, 0x00, 0x00,\n",
            "  0x0f, 0x00, 0x00, 0x00, 0x73, 0x65, 0x72, 0x76, 0x69, 0x6e, 0x67, 0x5f,\n",
            "  0x64, 0x65, 0x66, 0x61, 0x75, 0x6c, 0x74, 0x00, 0x01, 0x00, 0x00, 0x00,\n",
            "  0x14, 0x00, 0x00, 0x00, 0x01, 0x00, 0x00, 0x00, 0x24, 0x00, 0x00, 0x00,\n",
            "  0x08, 0x00, 0x0c, 0x00, 0x08, 0x00, 0x04, 0x00, 0x08, 0x00, 0x00, 0x00,\n",
            "  0x06, 0x00, 0x00, 0x00, 0x04, 0x00, 0x00, 0x00, 0x07, 0x00, 0x00, 0x00,\n",
            "  0x64, 0x65, 0x6e, 0x73, 0x65, 0x5f, 0x34, 0x00, 0xfa, 0xf2, 0xff, 0xff,\n",
            "  0x04, 0x00, 0x00, 0x00, 0x0d, 0x00, 0x00, 0x00, 0x64, 0x65, 0x6e, 0x73,\n",
            "  0x65, 0x5f, 0x33, 0x5f, 0x69, 0x6e, 0x70, 0x75, 0x74, 0x00, 0x00, 0x00,\n",
            "  0x01, 0x00, 0x00, 0x00, 0x0c, 0x00, 0x00, 0x00, 0x08, 0x00, 0x0c, 0x00,\n",
            "  0x04, 0x00, 0x08, 0x00, 0x08, 0x00, 0x00, 0x00, 0x08, 0x00, 0x00, 0x00,\n",
            "  0x08, 0x00, 0x00, 0x00, 0x13, 0x00, 0x00, 0x00, 0x6d, 0x69, 0x6e, 0x5f,\n",
            "  0x72, 0x75, 0x6e, 0x74, 0x69, 0x6d, 0x65, 0x5f, 0x76, 0x65, 0x72, 0x73,\n",
            "  0x69, 0x6f, 0x6e, 0x00, 0x4a, 0xf3, 0xff, 0xff, 0x04, 0x00, 0x00, 0x00,\n",
            "  0x10, 0x00, 0x00, 0x00, 0x31, 0x2e, 0x35, 0x2e, 0x30, 0x00, 0x00, 0x00,\n",
            "  0x00, 0x00, 0x00, 0x00, 0x00, 0x00, 0x00, 0x00, 0x0f, 0x00, 0x00, 0x00,\n",
            "  0x4d, 0x4c, 0x49, 0x52, 0x20, 0x43, 0x6f, 0x6e, 0x76, 0x65, 0x72, 0x74,\n",
            "  0x65, 0x64, 0x2e, 0x00, 0x00, 0x00, 0x0e, 0x00, 0x18, 0x00, 0x04, 0x00,\n",
            "  0x08, 0x00, 0x0c, 0x00, 0x10, 0x00, 0x14, 0x00, 0x0e, 0x00, 0x00, 0x00,\n",
            "  0x14, 0x00, 0x00, 0x00, 0x30, 0x00, 0x00, 0x00, 0x34, 0x00, 0x00, 0x00,\n",
            "  0x38, 0x00, 0x00, 0x00, 0x40, 0x00, 0x00, 0x00, 0x07, 0x00, 0x00, 0x00,\n",
            "  0xd0, 0x0c, 0x00, 0x00, 0x84, 0x0c, 0x00, 0x00, 0x18, 0x0c, 0x00, 0x00,\n",
            "  0x90, 0x0b, 0x00, 0x00, 0x48, 0x02, 0x00, 0x00, 0x2c, 0x01, 0x00, 0x00,\n",
            "  0x6c, 0x00, 0x00, 0x00, 0x01, 0x00, 0x00, 0x00, 0x00, 0x00, 0x00, 0x00,\n",
            "  0x01, 0x00, 0x00, 0x00, 0x06, 0x00, 0x00, 0x00, 0x02, 0x00, 0x00, 0x00,\n",
            "  0xb8, 0x00, 0x00, 0x00, 0x1c, 0x00, 0x00, 0x00, 0x04, 0x00, 0x00, 0x00,\n",
            "  0x6d, 0x61, 0x69, 0x6e, 0x00, 0x00, 0x0e, 0x00, 0x14, 0x00, 0x00, 0x00,\n",
            "  0x08, 0x00, 0x0c, 0x00, 0x07, 0x00, 0x10, 0x00, 0x0e, 0x00, 0x00, 0x00,\n",
            "  0x00, 0x00, 0x00, 0x08, 0x1c, 0x00, 0x00, 0x00, 0x10, 0x00, 0x00, 0x00,\n",
            "  0x04, 0x00, 0x00, 0x00, 0x66, 0xff, 0xff, 0xff, 0x00, 0x00, 0x00, 0x01,\n",
            "  0x01, 0x00, 0x00, 0x00, 0x06, 0x00, 0x00, 0x00, 0x03, 0x00, 0x00, 0x00,\n",
            "  0x05, 0x00, 0x00, 0x00, 0x04, 0x00, 0x00, 0x00, 0x01, 0x00, 0x00, 0x00,\n",
            "  0xc8, 0xf3, 0xff, 0xff, 0x14, 0x00, 0x00, 0x00, 0x07, 0x00, 0x00, 0x00,\n",
            "  0x18, 0x00, 0x00, 0x00, 0x40, 0x00, 0x00, 0x00, 0x30, 0x00, 0x00, 0x00,\n",
            "  0x02, 0x00, 0x00, 0x00, 0x01, 0x00, 0x00, 0x00, 0x03, 0x00, 0x00, 0x00,\n",
            "  0x19, 0x00, 0x00, 0x00, 0x53, 0x74, 0x61, 0x74, 0x65, 0x66, 0x75, 0x6c,\n",
            "  0x50, 0x61, 0x72, 0x74, 0x69, 0x74, 0x69, 0x6f, 0x6e, 0x65, 0x64, 0x43,\n",
            "  0x61, 0x6c, 0x6c, 0x3a, 0x30, 0x00, 0x00, 0x00, 0x02, 0x00, 0x00, 0x00,\n",
            "  0xff, 0xff, 0xff, 0xff, 0x03, 0x00, 0x00, 0x00, 0x84, 0xf4, 0xff, 0xff,\n",
            "  0x00, 0x00, 0x0e, 0x00, 0x16, 0x00, 0x00, 0x00, 0x08, 0x00, 0x0c, 0x00,\n",
            "  0x07, 0x00, 0x10, 0x00, 0x0e, 0x00, 0x00, 0x00, 0x00, 0x00, 0x00, 0x08,\n",
            "  0x24, 0x00, 0x00, 0x00, 0x18, 0x00, 0x00, 0x00, 0x0c, 0x00, 0x00, 0x00,\n",
            "  0x00, 0x00, 0x06, 0x00, 0x08, 0x00, 0x07, 0x00, 0x06, 0x00, 0x00, 0x00,\n",
            "  0x00, 0x00, 0x00, 0x01, 0x01, 0x00, 0x00, 0x00, 0x05, 0x00, 0x00, 0x00,\n",
            "  0x03, 0x00, 0x00, 0x00, 0x00, 0x00, 0x00, 0x00, 0x03, 0x00, 0x00, 0x00,\n",
            "  0x02, 0x00, 0x00, 0x00, 0x0c, 0x00, 0x10, 0x00, 0x0b, 0x00, 0x00, 0x00,\n",
            "  0x0c, 0x00, 0x04, 0x00, 0x0c, 0x00, 0x00, 0x00, 0x09, 0x00, 0x00, 0x00,\n",
            "  0x00, 0x00, 0x00, 0x09, 0x01, 0x00, 0x00, 0x00, 0x84, 0xf4, 0xff, 0xff,\n",
            "  0x14, 0x00, 0x00, 0x00, 0x06, 0x00, 0x00, 0x00, 0x18, 0x00, 0x00, 0x00,\n",
            "  0x38, 0x00, 0x00, 0x00, 0x28, 0x00, 0x00, 0x00, 0x02, 0x00, 0x00, 0x00,\n",
            "  0x01, 0x00, 0x00, 0x00, 0x10, 0x00, 0x00, 0x00, 0x13, 0x00, 0x00, 0x00,\n",
            "  0x74, 0x66, 0x6c, 0x2e, 0x66, 0x75, 0x6c, 0x6c, 0x79, 0x5f, 0x63, 0x6f,\n",
            "  0x6e, 0x6e, 0x65, 0x63, 0x74, 0x65, 0x64, 0x00, 0x02, 0x00, 0x00, 0x00,\n",
            "  0xff, 0xff, 0xff, 0xff, 0x10, 0x00, 0x00, 0x00, 0x60, 0xf4, 0xff, 0xff,\n",
            "  0x32, 0xf5, 0xff, 0xff, 0x04, 0x00, 0x00, 0x00, 0xc0, 0x00, 0x00, 0x00,\n",
            "  0x51, 0xfe, 0xc5, 0xbd, 0x38, 0xc5, 0xe0, 0x3e, 0x74, 0x28, 0x93, 0xbd,\n",
            "  0xce, 0x6e, 0x86, 0x3e, 0x3c, 0xa6, 0x50, 0xbd, 0xef, 0x46, 0x0f, 0xbf,\n",
            "  0x96, 0xac, 0x36, 0x3c, 0x3e, 0x96, 0xeb, 0x3e, 0x42, 0x66, 0x1f, 0x3e,\n",
            "  0xde, 0xff, 0x0e, 0xbf, 0xde, 0x46, 0x95, 0x3e, 0x37, 0x41, 0xfb, 0x3e,\n",
            "  0xd3, 0x85, 0xe1, 0x3e, 0xb6, 0xe8, 0x20, 0xbd, 0xc5, 0x35, 0xf5, 0xbd,\n",
            "  0x86, 0xff, 0x2e, 0x3d, 0x51, 0x18, 0x82, 0xbd, 0x88, 0x6d, 0x4f, 0x3e,\n",
            "  0x54, 0xe4, 0x93, 0x3e, 0xde, 0x22, 0xcf, 0xbe, 0xc4, 0x76, 0x55, 0x3d,\n",
            "  0x85, 0xe7, 0x07, 0x3e, 0xbd, 0xe1, 0x97, 0x3c, 0xdc, 0xac, 0xf2, 0xbe,\n",
            "  0x99, 0x08, 0x8d, 0xbe, 0xd3, 0x2d, 0x04, 0x3f, 0x9b, 0x7d, 0x33, 0x3e,\n",
            "  0xc3, 0xa4, 0xae, 0x3e, 0xf3, 0x0b, 0x09, 0xbf, 0x08, 0x6a, 0x0e, 0xbe,\n",
            "  0xb6, 0x94, 0x19, 0xbe, 0x7b, 0x26, 0xa6, 0xbe, 0x50, 0xb7, 0xd9, 0xbd,\n",
            "  0x9d, 0xee, 0x36, 0xbe, 0x36, 0x21, 0x86, 0xbd, 0x2d, 0x48, 0x20, 0x3d,\n",
            "  0xc3, 0x9d, 0x86, 0xbe, 0x66, 0xb1, 0xd6, 0x3e, 0xbf, 0xaf, 0x8f, 0xbe,\n",
            "  0x67, 0xac, 0x0c, 0x3f, 0x88, 0xb1, 0xa9, 0x3e, 0x0f, 0xae, 0xd5, 0x3e,\n",
            "  0x36, 0x03, 0xc5, 0xbe, 0x76, 0x8e, 0x06, 0x3f, 0x46, 0x01, 0xaf, 0xbd,\n",
            "  0x03, 0xd4, 0xad, 0xbe, 0xd9, 0xb9, 0x9b, 0xbe, 0x6b, 0xb4, 0xac, 0x3e,\n",
            "  0xde, 0xf5, 0xff, 0xff, 0x10, 0x00, 0x00, 0x00, 0x05, 0x00, 0x00, 0x00,\n",
            "  0x14, 0x00, 0x00, 0x00, 0x24, 0x00, 0x00, 0x00, 0x02, 0x00, 0x00, 0x00,\n",
            "  0x03, 0x00, 0x00, 0x00, 0x10, 0x00, 0x00, 0x00, 0x0d, 0x00, 0x00, 0x00,\n",
            "  0x73, 0x74, 0x64, 0x2e, 0x63, 0x6f, 0x6e, 0x73, 0x74, 0x61, 0x6e, 0x74,\n",
            "  0x31, 0x00, 0x00, 0x00, 0x64, 0xf5, 0xff, 0xff, 0x36, 0xf6, 0xff, 0xff,\n",
            "  0x04, 0x00, 0x00, 0x00, 0x00, 0x09, 0x00, 0x00, 0xa0, 0xd9, 0x4e, 0xbe,\n",
            "  0xea, 0x2d, 0x0f, 0xbe, 0xaf, 0x78, 0x65, 0xbd, 0xb7, 0x7f, 0xbb, 0x3d,\n",
            "  0x31, 0xb0, 0x09, 0x3e, 0x04, 0x8e, 0x98, 0xbe, 0xc2, 0xf1, 0xa2, 0x3d,\n",
            "  0xb0, 0x5e, 0x33, 0x3d, 0x77, 0xe3, 0x64, 0x3e, 0x95, 0xf7, 0x84, 0x3e,\n",
            "  0x52, 0x50, 0x8d, 0x3e, 0x2d, 0xc2, 0xb3, 0xbe, 0xa8, 0x73, 0x35, 0xbe,\n",
            "  0x5b, 0xd2, 0x4c, 0xbd, 0x84, 0x28, 0x8b, 0x3e, 0x69, 0x2c, 0x6f, 0x3c,\n",
            "  0x60, 0xdc, 0x71, 0xbe, 0x50, 0xae, 0x37, 0x3c, 0x39, 0xed, 0x86, 0xbd,\n",
            "  0x77, 0x94, 0xba, 0xbe, 0x7e, 0x29, 0xfe, 0xbd, 0x2a, 0x6f, 0x72, 0xbe,\n",
            "  0xfc, 0xf0, 0x5a, 0xbe, 0x8d, 0x12, 0x18, 0xbe, 0xbf, 0xe0, 0x07, 0x3d,\n",
            "  0x05, 0x1e, 0x6b, 0xbe, 0x8a, 0x2e, 0xff, 0xbd, 0x14, 0xc4, 0xa9, 0x3c,\n",
            "  0xe2, 0x03, 0x99, 0x3e, 0x41, 0xa3, 0x9a, 0x3d, 0x09, 0x46, 0x28, 0xbe,\n",
            "  0xc4, 0x03, 0x65, 0x3e, 0x17, 0xa1, 0x95, 0xbe, 0x62, 0xe0, 0x00, 0x3e,\n",
            "  0xdb, 0x7c, 0xab, 0x3d, 0x24, 0xd0, 0xc1, 0x3d, 0xe4, 0xf2, 0xa1, 0x3e,\n",
            "  0xcf, 0xef, 0x7f, 0xbe, 0xdf, 0x8d, 0xf7, 0x3c, 0xca, 0x75, 0x44, 0x3d,\n",
            "  0x78, 0xcf, 0x4e, 0xbb, 0x32, 0x43, 0x3b, 0x3e, 0x33, 0xc9, 0x9f, 0x3d,\n",
            "  0x14, 0xaf, 0x7c, 0x3d, 0x15, 0x4b, 0x46, 0xbe, 0xc4, 0xbd, 0x90, 0xbe,\n",
            "  0x42, 0xc7, 0x55, 0x3e, 0x3c, 0x81, 0xe2, 0x3b, 0xaf, 0xfa, 0xa1, 0x3e,\n",
            "  0x39, 0xe4, 0xc7, 0xbe, 0xa9, 0x01, 0x92, 0x3e, 0x07, 0x79, 0x5d, 0x3c,\n",
            "  0x3e, 0x1c, 0xa8, 0x3d, 0xef, 0xe1, 0x59, 0xbe, 0x7b, 0xfe, 0x18, 0xbe,\n",
            "  0x16, 0x85, 0x1f, 0xbd, 0x5a, 0x71, 0x57, 0x3e, 0xd3, 0x0c, 0xb3, 0xbe,\n",
            "  0xeb, 0xdd, 0xf9, 0xba, 0xab, 0xa3, 0x33, 0xbe, 0x5e, 0x32, 0x34, 0x3e,\n",
            "  0x1a, 0x8b, 0xb1, 0x3e, 0x58, 0xa4, 0xae, 0xbd, 0xee, 0xc1, 0x9d, 0xbd,\n",
            "  0xd6, 0x5f, 0x15, 0x3e, 0xb9, 0xf3, 0xef, 0xb7, 0x98, 0xdd, 0xbd, 0xbc,\n",
            "  0x3e, 0xea, 0x61, 0xbc, 0xeb, 0x58, 0x54, 0xbe, 0x43, 0x22, 0xbf, 0xbd,\n",
            "  0xc1, 0xbb, 0xe3, 0x3c, 0xca, 0x6f, 0x70, 0xbd, 0xc8, 0xd3, 0xbc, 0x3d,\n",
            "  0x92, 0xaa, 0x72, 0x3e, 0xdd, 0x4a, 0x0b, 0x3c, 0x07, 0x5c, 0x2d, 0x3c,\n",
            "  0x54, 0x92, 0x8c, 0xbe, 0x7e, 0xec, 0x2f, 0xbe, 0x09, 0xf0, 0x5e, 0xbe,\n",
            "  0x39, 0x65, 0xe9, 0xbc, 0xb6, 0xf7, 0x17, 0x3e, 0x59, 0x07, 0xf9, 0xbd,\n",
            "  0xdb, 0x81, 0x9c, 0xbe, 0x31, 0xe9, 0x4d, 0xbe, 0xac, 0x59, 0x33, 0xbd,\n",
            "  0x9b, 0xdf, 0x3a, 0xbe, 0x5f, 0x27, 0xb1, 0xbe, 0x0e, 0x56, 0x63, 0x3d,\n",
            "  0x4b, 0x5a, 0x45, 0x3e, 0x88, 0xac, 0x60, 0x3e, 0x75, 0x61, 0xd1, 0x3d,\n",
            "  0xc5, 0x3a, 0xae, 0x3e, 0xa8, 0x6e, 0x13, 0xbe, 0x27, 0xb9, 0xf8, 0xbd,\n",
            "  0xea, 0xc3, 0x5a, 0xbd, 0x2f, 0x36, 0x08, 0x3e, 0x5c, 0x4a, 0x92, 0xbe,\n",
            "  0x3a, 0xbf, 0x98, 0xbe, 0x8c, 0x1e, 0xa4, 0x3c, 0xcb, 0x20, 0x91, 0xbe,\n",
            "  0x5b, 0xd9, 0x8c, 0x3e, 0x08, 0xd7, 0x45, 0x3e, 0x3d, 0x88, 0xd4, 0xbb,\n",
            "  0xdf, 0xec, 0x8f, 0x3e, 0xad, 0x89, 0x7e, 0xbe, 0x25, 0x8d, 0xe3, 0x3d,\n",
            "  0x96, 0x8c, 0x79, 0xbe, 0x33, 0xf1, 0x91, 0x3e, 0x76, 0xbe, 0xad, 0xbd,\n",
            "  0x9e, 0x34, 0x97, 0x3e, 0x3f, 0xfe, 0x18, 0xbd, 0xab, 0x43, 0xa1, 0xbe,\n",
            "  0x63, 0x31, 0x96, 0xbd, 0xf5, 0x0b, 0x7f, 0x3e, 0x9c, 0x5c, 0x4d, 0xbe,\n",
            "  0x55, 0xaf, 0x58, 0x3e, 0xd0, 0xeb, 0x56, 0x3e, 0xca, 0x61, 0x57, 0x3e,\n",
            "  0x20, 0xae, 0xa1, 0xbd, 0xf2, 0x94, 0x26, 0x3e, 0x5b, 0xe4, 0x45, 0x3c,\n",
            "  0x62, 0x67, 0x4a, 0x3e, 0x5a, 0xc8, 0x47, 0x3e, 0xa7, 0xb5, 0x54, 0xbe,\n",
            "  0xf9, 0x9f, 0x86, 0xbe, 0x3a, 0x96, 0x1e, 0xbe, 0xa7, 0x89, 0xd9, 0x3d,\n",
            "  0xb5, 0x10, 0x8c, 0xbe, 0x24, 0x3b, 0x25, 0x3e, 0x62, 0x8d, 0xae, 0xbe,\n",
            "  0xb4, 0x43, 0x41, 0xbe, 0x8a, 0x68, 0x82, 0x3e, 0xf1, 0xab, 0x42, 0xbe,\n",
            "  0x01, 0x5d, 0x02, 0x3e, 0x36, 0x97, 0x1c, 0xbe, 0x9a, 0x0f, 0x38, 0xbe,\n",
            "  0x49, 0x9c, 0x47, 0x3e, 0xba, 0xa3, 0xec, 0x3d, 0x3a, 0xe4, 0x46, 0x3e,\n",
            "  0x19, 0xdb, 0x22, 0xbe, 0x70, 0x7c, 0x1f, 0xbe, 0xc7, 0x5f, 0x68, 0x3e,\n",
            "  0x8f, 0xb3, 0x61, 0x3d, 0x4d, 0x6c, 0x89, 0x3e, 0xac, 0xc8, 0xde, 0xbd,\n",
            "  0x7c, 0xb6, 0xcd, 0x3d, 0x96, 0x74, 0x41, 0xbe, 0x36, 0x94, 0xaf, 0x3d,\n",
            "  0x75, 0x28, 0xb1, 0x3d, 0xca, 0xa0, 0x21, 0x3e, 0x6f, 0x91, 0x42, 0x3c,\n",
            "  0xde, 0x4c, 0x24, 0xbe, 0x8a, 0x83, 0x57, 0xbd, 0xbe, 0x6d, 0x30, 0x3e,\n",
            "  0x7f, 0x24, 0x3a, 0xbd, 0xe0, 0x17, 0x49, 0xbe, 0x3c, 0xbc, 0x82, 0xbe,\n",
            "  0x76, 0x3c, 0x37, 0xbe, 0x4b, 0x1c, 0x4d, 0xbe, 0x74, 0x39, 0x53, 0x3e,\n",
            "  0x64, 0xc6, 0x80, 0x3d, 0xde, 0xb3, 0x74, 0xbe, 0x3d, 0xeb, 0x45, 0x3e,\n",
            "  0x8b, 0xbb, 0x94, 0xbe, 0x67, 0x4f, 0x70, 0xbe, 0x56, 0x53, 0x37, 0xbe,\n",
            "  0x0b, 0x8a, 0x34, 0x3e, 0x59, 0xd1, 0xb3, 0xbd, 0x5f, 0x64, 0x96, 0x3e,\n",
            "  0x06, 0xe1, 0x1e, 0xbe, 0xff, 0xae, 0x22, 0xbe, 0xe3, 0xe8, 0x73, 0xbe,\n",
            "  0x76, 0x10, 0x8e, 0x3e, 0x81, 0xcf, 0xaf, 0xbd, 0x67, 0x98, 0x9a, 0x3e,\n",
            "  0x85, 0x02, 0xc3, 0xbe, 0x2c, 0xbb, 0xfb, 0xbd, 0x07, 0x95, 0x09, 0x3d,\n",
            "  0x9d, 0x33, 0x0b, 0x3d, 0xe1, 0x63, 0xdf, 0x3d, 0x98, 0xf8, 0x4e, 0x3d,\n",
            "  0x2a, 0xb5, 0x40, 0xbe, 0xea, 0xd6, 0x58, 0x3e, 0xbc, 0xd4, 0x00, 0xbe,\n",
            "  0xf2, 0x73, 0xfc, 0xbd, 0xa3, 0x7a, 0x63, 0xbe, 0x5a, 0xc3, 0x23, 0xbe,\n",
            "  0x73, 0x3b, 0xe4, 0xbd, 0x41, 0xfd, 0xb3, 0xbd, 0xf5, 0x9a, 0x12, 0xbe,\n",
            "  0x25, 0xb3, 0x89, 0x3e, 0x88, 0x32, 0x90, 0x3c, 0x88, 0xe9, 0xae, 0xbc,\n",
            "  0xaa, 0x16, 0x71, 0x3e, 0xa7, 0x90, 0x74, 0xbc, 0x13, 0x78, 0x90, 0xbe,\n",
            "  0x0d, 0x8d, 0x5f, 0x3d, 0x2e, 0xef, 0xa7, 0xbe, 0xb5, 0xec, 0x33, 0xbe,\n",
            "  0x0d, 0x00, 0x80, 0x3e, 0xae, 0xbc, 0x7c, 0xbd, 0x16, 0xa1, 0xa3, 0xbe,\n",
            "  0x3e, 0xae, 0x0c, 0xbe, 0xb2, 0x88, 0x67, 0x3e, 0x73, 0x30, 0x53, 0xbe,\n",
            "  0x8b, 0xd9, 0x9b, 0x3d, 0xb0, 0x15, 0x01, 0xbe, 0xc8, 0x1e, 0x03, 0x3d,\n",
            "  0x2f, 0x0f, 0x4d, 0xbd, 0x40, 0x40, 0x22, 0xbe, 0xbc, 0xc7, 0xf4, 0xbd,\n",
            "  0xc9, 0x0f, 0x4c, 0xbe, 0xca, 0xd5, 0x47, 0x3e, 0x46, 0xae, 0x80, 0xbd,\n",
            "  0x41, 0xa9, 0x9b, 0x3d, 0x29, 0xa6, 0x66, 0xbe, 0x2b, 0xf3, 0xcb, 0x3e,\n",
            "  0x1a, 0x8f, 0x92, 0xbe, 0xcf, 0xf3, 0x91, 0x3e, 0xfd, 0xd9, 0xc5, 0x38,\n",
            "  0xe3, 0x31, 0xb2, 0xbe, 0x60, 0x16, 0x2c, 0x3e, 0xee, 0x12, 0xca, 0x3d,\n",
            "  0x05, 0xb6, 0xdb, 0xbd, 0xdc, 0xf8, 0x3f, 0x3e, 0xac, 0xd3, 0x7a, 0x3e,\n",
            "  0x27, 0x33, 0xed, 0x3d, 0xfb, 0x6c, 0xce, 0x3d, 0x7a, 0x81, 0xe8, 0x3d,\n",
            "  0x9e, 0x9d, 0x1b, 0x3d, 0x71, 0x5b, 0x98, 0x3e, 0xa4, 0xd5, 0x8e, 0x3d,\n",
            "  0x08, 0xc2, 0xcf, 0xbe, 0xa1, 0xf5, 0x6a, 0x3e, 0xb8, 0x8b, 0x8f, 0x3e,\n",
            "  0x26, 0xf8, 0x0f, 0x3e, 0x54, 0x35, 0x25, 0xbe, 0x1d, 0xc2, 0x26, 0x3e,\n",
            "  0x6c, 0x9f, 0xeb, 0x3d, 0x97, 0x62, 0xaa, 0xbe, 0x51, 0x1d, 0x77, 0x3e,\n",
            "  0x87, 0xa2, 0x85, 0x3e, 0x41, 0x2d, 0xdc, 0x3b, 0xbe, 0x90, 0x8f, 0xbe,\n",
            "  0x5f, 0xa9, 0xb8, 0xbd, 0x43, 0xd6, 0x58, 0xbe, 0xc7, 0xeb, 0x8f, 0x3d,\n",
            "  0x0f, 0x57, 0x04, 0x3e, 0x15, 0xd7, 0x8a, 0x3e, 0x10, 0xef, 0x58, 0xbe,\n",
            "  0xdd, 0x77, 0x25, 0xbd, 0x64, 0x4d, 0xa1, 0x3e, 0xb4, 0xb5, 0xb6, 0xbd,\n",
            "  0xf2, 0x0a, 0xe1, 0xbd, 0x37, 0xa2, 0xf1, 0x3d, 0x6e, 0x87, 0x0a, 0xbb,\n",
            "  0xcb, 0x0a, 0x87, 0x3b, 0xfc, 0x88, 0x85, 0x3e, 0x55, 0x8b, 0x90, 0x3e,\n",
            "  0x77, 0x72, 0xf6, 0xbd, 0x9c, 0x0a, 0x67, 0xbe, 0xd8, 0x1e, 0x9f, 0xbe,\n",
            "  0xca, 0xcb, 0x79, 0xbd, 0x42, 0xf3, 0x0d, 0xbe, 0x2a, 0x50, 0x91, 0xbc,\n",
            "  0x22, 0x08, 0xa3, 0x3c, 0x60, 0xdf, 0x94, 0x3d, 0xcd, 0x83, 0x24, 0x3b,\n",
            "  0x42, 0x9c, 0x5a, 0x3e, 0xd7, 0x6c, 0xac, 0x3d, 0x0f, 0x6b, 0x7f, 0xbe,\n",
            "  0x18, 0xbe, 0x83, 0xbe, 0x71, 0x4f, 0x6d, 0x3b, 0xcb, 0xfa, 0xcc, 0xbd,\n",
            "  0x82, 0x5a, 0x9e, 0xbe, 0x60, 0xbd, 0x55, 0x3e, 0x89, 0x07, 0x62, 0x3e,\n",
            "  0x95, 0xaa, 0x09, 0xbe, 0xec, 0x9f, 0xf8, 0xbc, 0x40, 0x07, 0xac, 0x3e,\n",
            "  0x06, 0x4d, 0x1e, 0x3e, 0xff, 0x52, 0x1b, 0xbe, 0xe5, 0x5a, 0x4c, 0x3d,\n",
            "  0x40, 0x94, 0x7b, 0x3e, 0x38, 0xb4, 0xba, 0xbd, 0x3b, 0x23, 0x27, 0xbe,\n",
            "  0x7e, 0x55, 0xc0, 0xbd, 0xb1, 0x6c, 0x33, 0x3e, 0xa0, 0x49, 0xd8, 0x3d,\n",
            "  0xa8, 0xc6, 0xd3, 0xbd, 0xf7, 0x3f, 0x19, 0xbe, 0x15, 0xdf, 0x92, 0xbe,\n",
            "  0x37, 0xf2, 0x72, 0x3e, 0x87, 0x0f, 0x1b, 0xbe, 0x1a, 0x3d, 0x94, 0xbe,\n",
            "  0x73, 0xe2, 0x8b, 0xbe, 0x43, 0x14, 0x76, 0x3b, 0x76, 0xdf, 0xa4, 0xbe,\n",
            "  0x19, 0x75, 0x3f, 0xbd, 0x59, 0xd8, 0x3c, 0x3e, 0xc1, 0xed, 0x9b, 0x3e,\n",
            "  0xd3, 0x40, 0x90, 0xbe, 0x10, 0x38, 0xcf, 0x3c, 0x9a, 0x52, 0x77, 0xbe,\n",
            "  0x6c, 0x7f, 0x25, 0x3e, 0xd4, 0x46, 0x64, 0xbc, 0x2a, 0x39, 0x69, 0xbe,\n",
            "  0x13, 0x58, 0x0c, 0xbd, 0xf1, 0x84, 0x1f, 0xbe, 0x53, 0x31, 0xa4, 0x3e,\n",
            "  0x95, 0x60, 0x72, 0xbc, 0xcc, 0x43, 0xcf, 0xbc, 0x31, 0x2d, 0xa5, 0xbd,\n",
            "  0x84, 0x4b, 0xc8, 0x3d, 0x09, 0xbd, 0x47, 0x3d, 0x68, 0x06, 0xc1, 0xbd,\n",
            "  0x3a, 0xf1, 0x3c, 0xbe, 0xf8, 0x41, 0x70, 0x3d, 0x23, 0xe6, 0xb2, 0xbe,\n",
            "  0x26, 0xe8, 0x91, 0x3d, 0x12, 0xb1, 0x6e, 0xbe, 0x2c, 0x02, 0x95, 0xbd,\n",
            "  0x48, 0x71, 0x82, 0xbe, 0xe9, 0x09, 0x68, 0x3e, 0x5d, 0xc6, 0xb4, 0x3c,\n",
            "  0x4b, 0x67, 0xc9, 0x3e, 0xa2, 0xce, 0x2d, 0xbe, 0x37, 0xc7, 0x87, 0x3e,\n",
            "  0x80, 0xef, 0x29, 0x3e, 0x60, 0x5f, 0xf7, 0x3d, 0x82, 0x0f, 0xb9, 0xbe,\n",
            "  0xad, 0x13, 0x81, 0xbd, 0x35, 0xe5, 0x2f, 0x3e, 0x16, 0xc7, 0x6e, 0x3d,\n",
            "  0x86, 0x45, 0x5b, 0xbd, 0x90, 0xeb, 0x2d, 0xbd, 0x4e, 0xb6, 0xc3, 0x3d,\n",
            "  0xa2, 0x97, 0xef, 0x3d, 0x6e, 0x1d, 0x22, 0x3e, 0x83, 0x71, 0x55, 0x3e,\n",
            "  0x4b, 0xa6, 0x13, 0x3d, 0x59, 0x94, 0x0f, 0xbe, 0xfd, 0x83, 0xdd, 0xbe,\n",
            "  0x1e, 0x2a, 0xab, 0x3d, 0x76, 0x91, 0x7a, 0x3e, 0x68, 0xaa, 0x1d, 0x3e,\n",
            "  0x5e, 0x27, 0x4e, 0x3d, 0xe8, 0x33, 0x1f, 0xbe, 0x8b, 0x5a, 0x98, 0xbe,\n",
            "  0xb6, 0x0a, 0x78, 0x3e, 0xe3, 0x6d, 0x75, 0x3e, 0x3a, 0xbf, 0xde, 0x3d,\n",
            "  0x57, 0x98, 0xed, 0xbd, 0xa3, 0x41, 0x55, 0xbe, 0xe6, 0x9a, 0xf3, 0x3d,\n",
            "  0x08, 0xb8, 0x95, 0xbd, 0x4d, 0x08, 0xbf, 0x3d, 0x53, 0x69, 0x08, 0xbe,\n",
            "  0xa9, 0xe4, 0x66, 0x3e, 0xe9, 0xf4, 0x09, 0xbe, 0xfa, 0x1c, 0x15, 0x3e,\n",
            "  0x2c, 0x1e, 0xf1, 0xbd, 0xa4, 0xe2, 0xdf, 0xbd, 0x40, 0x73, 0xdf, 0xbd,\n",
            "  0x35, 0x1b, 0xef, 0x3d, 0x6b, 0x83, 0x00, 0xbe, 0x83, 0x16, 0xb2, 0xbd,\n",
            "  0xcb, 0x86, 0x84, 0xbe, 0x3d, 0xa9, 0x59, 0xbe, 0xf5, 0xc5, 0xf8, 0x3c,\n",
            "  0x2a, 0x38, 0x28, 0x3e, 0x73, 0x81, 0x92, 0xbe, 0x53, 0x88, 0xb5, 0xbd,\n",
            "  0x44, 0xcc, 0x11, 0xbe, 0xc9, 0x9c, 0x30, 0xbe, 0x28, 0xe2, 0x9c, 0xbe,\n",
            "  0x38, 0x1f, 0xe5, 0xbd, 0x74, 0x30, 0x87, 0xbe, 0xcd, 0x3b, 0x29, 0xbe,\n",
            "  0xf7, 0x38, 0x0c, 0xbe, 0x7a, 0xb4, 0x61, 0x3e, 0xff, 0xff, 0x6e, 0xbe,\n",
            "  0x30, 0xc8, 0x01, 0x3e, 0xcb, 0xaa, 0x97, 0xbe, 0x89, 0xd1, 0xbb, 0x3c,\n",
            "  0x22, 0xb1, 0x76, 0x3e, 0xe2, 0x6a, 0x51, 0xbd, 0x9c, 0x43, 0x7b, 0xbe,\n",
            "  0x4c, 0xfd, 0x54, 0xbd, 0xaf, 0xac, 0x8b, 0xbe, 0xb7, 0xd6, 0xee, 0xbd,\n",
            "  0x91, 0x96, 0xa3, 0xbe, 0xee, 0x39, 0x5d, 0xbe, 0xaa, 0x36, 0x08, 0xbd,\n",
            "  0x63, 0x90, 0x6e, 0x3d, 0x37, 0x9a, 0x58, 0x3e, 0x90, 0x16, 0x26, 0x3d,\n",
            "  0x83, 0x2c, 0x8e, 0xbd, 0x38, 0x0e, 0x7f, 0xbe, 0x66, 0xd2, 0x83, 0x3e,\n",
            "  0x55, 0x31, 0x4f, 0x3e, 0xa1, 0xd8, 0x6d, 0xbe, 0x48, 0xbc, 0xb7, 0xbe,\n",
            "  0x9d, 0x16, 0x55, 0xbd, 0x58, 0xc8, 0x21, 0xbd, 0x8f, 0xbf, 0x85, 0x3e,\n",
            "  0xbc, 0x5a, 0x1c, 0xba, 0x02, 0x7f, 0x64, 0xbe, 0x9e, 0x34, 0x84, 0x3c,\n",
            "  0x72, 0x7f, 0xd3, 0x3e, 0xef, 0x14, 0xc1, 0x3e, 0x59, 0xc1, 0x9b, 0x3e,\n",
            "  0x61, 0xec, 0x01, 0x3e, 0xd9, 0x19, 0x85, 0x3e, 0xec, 0x6a, 0x01, 0x3e,\n",
            "  0x1d, 0xf2, 0x5f, 0xbd, 0xc7, 0x3d, 0xaf, 0xbd, 0xc8, 0xca, 0x9a, 0x3e,\n",
            "  0x0e, 0x55, 0x9a, 0xbd, 0xcd, 0x14, 0x79, 0x3e, 0x55, 0xcc, 0xa0, 0xbd,\n",
            "  0xe4, 0xdc, 0xfe, 0x3d, 0xb7, 0xf6, 0x68, 0x3e, 0x4b, 0x57, 0x5b, 0x3c,\n",
            "  0xa4, 0x20, 0x64, 0x3e, 0x95, 0x77, 0x94, 0x3e, 0x45, 0xbf, 0x93, 0xbe,\n",
            "  0x90, 0xfe, 0x1a, 0x3e, 0x37, 0xe3, 0x5a, 0xbe, 0x33, 0xac, 0xa5, 0xbd,\n",
            "  0xb2, 0x3a, 0x52, 0x3e, 0xb1, 0x76, 0x04, 0xbd, 0x8d, 0x0f, 0x6e, 0x3e,\n",
            "  0x58, 0x4b, 0x72, 0xbc, 0xae, 0x93, 0x46, 0xbd, 0x3d, 0xe5, 0xa9, 0x3d,\n",
            "  0x9d, 0x7a, 0x78, 0xbe, 0x2a, 0xe9, 0x7a, 0xbe, 0x30, 0xc2, 0x8f, 0xbe,\n",
            "  0x17, 0xd8, 0x09, 0xbe, 0x2d, 0x08, 0x24, 0x3e, 0x88, 0x4c, 0x3c, 0x3e,\n",
            "  0x56, 0x2d, 0x51, 0x3d, 0x87, 0xc6, 0xe7, 0xbd, 0x1d, 0x41, 0x8d, 0xbd,\n",
            "  0xe0, 0xcb, 0xc2, 0xbd, 0xd1, 0xdc, 0xc6, 0x3d, 0x9c, 0xce, 0x04, 0xbd,\n",
            "  0xb8, 0xd0, 0x4d, 0x3e, 0x86, 0x3e, 0x52, 0x3e, 0x18, 0x75, 0x0e, 0x3e,\n",
            "  0x66, 0x53, 0xa3, 0xbe, 0xdb, 0x5b, 0xb6, 0x3e, 0xaa, 0x75, 0x5b, 0xbe,\n",
            "  0x82, 0x2c, 0x28, 0x3c, 0x6f, 0xeb, 0x9f, 0x3d, 0x9a, 0xdf, 0x78, 0xbd,\n",
            "  0x30, 0x4f, 0x48, 0x3d, 0x37, 0x8b, 0x0e, 0xbe, 0x69, 0x96, 0xeb, 0x3d,\n",
            "  0xf5, 0x8c, 0xc5, 0xbe, 0x1b, 0x9e, 0x8d, 0x3e, 0xcb, 0x2d, 0x5f, 0xbc,\n",
            "  0x5e, 0xe2, 0xa6, 0xbe, 0xa0, 0xf5, 0x41, 0xbe, 0x77, 0xe7, 0x5d, 0x3d,\n",
            "  0x50, 0x2b, 0x2a, 0xbe, 0x1f, 0xd1, 0x4d, 0xbe, 0x6f, 0xa3, 0xf9, 0x3d,\n",
            "  0xa5, 0x06, 0x2e, 0xbd, 0x15, 0x35, 0x48, 0xbe, 0xf6, 0x0d, 0x8f, 0x3e,\n",
            "  0xb3, 0xb2, 0x9a, 0x3d, 0xf9, 0x30, 0x75, 0xbe, 0xea, 0xf8, 0x9f, 0x3c,\n",
            "  0x37, 0x54, 0x6b, 0xbe, 0xcf, 0x68, 0xab, 0xbe, 0x48, 0x35, 0x5c, 0x3e,\n",
            "  0xbd, 0xc6, 0x87, 0x3e, 0x09, 0x09, 0x20, 0xbd, 0x93, 0xee, 0x1a, 0xbe,\n",
            "  0xfe, 0x77, 0x8c, 0xbe, 0xb7, 0x5c, 0xe6, 0xbd, 0x11, 0xe1, 0xf4, 0xbc,\n",
            "  0xfe, 0xc4, 0x9d, 0xbd, 0x92, 0xfe, 0x37, 0x3e, 0x89, 0x06, 0x80, 0xbe,\n",
            "  0xf5, 0x48, 0xcb, 0xbc, 0x1f, 0xdd, 0x72, 0x3e, 0x4d, 0x90, 0xcf, 0x3a,\n",
            "  0x05, 0x9f, 0xd4, 0xbd, 0x1a, 0x9c, 0x4d, 0xbe, 0xab, 0x05, 0x25, 0xbd,\n",
            "  0x2a, 0x30, 0x67, 0x3d, 0xf8, 0xef, 0x8f, 0x3e, 0x5d, 0xe0, 0x19, 0xbe,\n",
            "  0x48, 0xd4, 0x8a, 0x3e, 0x8c, 0x5e, 0x9a, 0x3e, 0x3d, 0xc2, 0x49, 0x3d,\n",
            "  0xa8, 0x9f, 0x1d, 0x3d, 0x2b, 0xe4, 0xdd, 0x3d, 0xcf, 0x5e, 0x10, 0xbe,\n",
            "  0x23, 0xf7, 0x18, 0xbd, 0xda, 0xaf, 0x33, 0xbe, 0x1a, 0xe3, 0x62, 0x3d,\n",
            "  0xcb, 0x3a, 0x35, 0x3e, 0xb5, 0x18, 0xf7, 0x3d, 0x42, 0x93, 0x80, 0xbd,\n",
            "  0x5a, 0xec, 0x42, 0x3e, 0xe0, 0x8f, 0x7b, 0xbe, 0xb0, 0xbd, 0xa5, 0xbd,\n",
            "  0x4e, 0x77, 0x48, 0xbe, 0x80, 0xb7, 0x8f, 0x3c, 0x82, 0x9c, 0xd4, 0xbc,\n",
            "  0xc8, 0x4a, 0xb9, 0x3d, 0x66, 0x9d, 0x8a, 0xbe, 0xb3, 0xba, 0xa5, 0xbd,\n",
            "  0x2c, 0x14, 0xda, 0xbe, 0x55, 0x9e, 0x27, 0x3d, 0xf9, 0x69, 0xab, 0x3d,\n",
            "  0xce, 0x8b, 0x44, 0x3e, 0xe9, 0x25, 0x86, 0x3e, 0x76, 0x2a, 0x41, 0xbe,\n",
            "  0xa1, 0xdb, 0xa2, 0xbe, 0x99, 0x6e, 0xa5, 0xbe, 0xf2, 0xdb, 0xce, 0xbd,\n",
            "  0x95, 0xf1, 0xbd, 0x3d, 0x9a, 0x22, 0xa6, 0x3e, 0xd5, 0x4f, 0x53, 0x3e,\n",
            "  0x5a, 0x62, 0x86, 0x3e, 0x9b, 0x5a, 0xac, 0x3e, 0x9b, 0x2a, 0x9e, 0x3e,\n",
            "  0x89, 0x57, 0x8e, 0x3e, 0x12, 0x74, 0x87, 0xbe, 0x5b, 0x3b, 0x93, 0x3e,\n",
            "  0xba, 0x2b, 0x59, 0xbe, 0xfa, 0x27, 0x96, 0xbe, 0xe0, 0x0a, 0x0e, 0x3e,\n",
            "  0xae, 0x68, 0x3d, 0x3d, 0x09, 0x6e, 0x5f, 0xbe, 0x72, 0x94, 0xba, 0xbe,\n",
            "  0x4a, 0xf7, 0x02, 0x3e, 0x25, 0x1b, 0x5a, 0x3d, 0xd2, 0x1b, 0x94, 0xbe,\n",
            "  0x57, 0x15, 0xe5, 0xbd, 0xea, 0x64, 0x77, 0x3e, 0x67, 0xf6, 0x9c, 0xbd,\n",
            "  0x60, 0x00, 0xe0, 0xbc, 0xe5, 0x33, 0x8b, 0xbe, 0x19, 0x64, 0x90, 0x3e,\n",
            "  0x4b, 0xb4, 0x54, 0xbe, 0xac, 0x27, 0xa4, 0xbd, 0x84, 0x04, 0x6a, 0xbe,\n",
            "  0x34, 0xa5, 0x8c, 0x3e, 0xbf, 0x32, 0x57, 0xbe, 0xe2, 0xd2, 0x3f, 0xbe,\n",
            "  0x38, 0x16, 0x85, 0x3b, 0x93, 0x10, 0xa1, 0xbe, 0xde, 0x69, 0x22, 0xbe,\n",
            "  0xd3, 0xf7, 0x9d, 0x3e, 0x09, 0x6a, 0xbb, 0x3d, 0x24, 0x40, 0xd3, 0xbd,\n",
            "  0x0a, 0xc3, 0xb0, 0x3e, 0x9b, 0xab, 0x9b, 0xbe, 0x9e, 0xf3, 0x2a, 0x3e,\n",
            "  0xe4, 0x41, 0x10, 0x3e, 0xf3, 0xb8, 0x86, 0xbe, 0xff, 0x8e, 0x3e, 0x3d,\n",
            "  0x0b, 0x51, 0x3b, 0x3e, 0x98, 0xbd, 0x2f, 0x3d, 0x95, 0xce, 0x42, 0x3e,\n",
            "  0xd7, 0x9c, 0x9d, 0xbe, 0x25, 0x4f, 0x30, 0xbe, 0xd2, 0xe5, 0x81, 0x3e,\n",
            "  0x64, 0x2d, 0x88, 0xbe, 0x42, 0xd2, 0xd1, 0x3d, 0x22, 0xff, 0xff, 0xff,\n",
            "  0x10, 0x00, 0x00, 0x00, 0x04, 0x00, 0x00, 0x00, 0x14, 0x00, 0x00, 0x00,\n",
            "  0x24, 0x00, 0x00, 0x00, 0x02, 0x00, 0x00, 0x00, 0x10, 0x00, 0x00, 0x00,\n",
            "  0x24, 0x00, 0x00, 0x00, 0x0c, 0x00, 0x00, 0x00, 0x73, 0x74, 0x64, 0x2e,\n",
            "  0x63, 0x6f, 0x6e, 0x73, 0x74, 0x61, 0x6e, 0x74, 0x00, 0x00, 0x00, 0x00,\n",
            "  0xa8, 0xfe, 0xff, 0xff, 0x7a, 0xff, 0xff, 0xff, 0x04, 0x00, 0x00, 0x00,\n",
            "  0x40, 0x00, 0x00, 0x00, 0x95, 0x28, 0x9b, 0xbd, 0x68, 0x16, 0x56, 0xbd,\n",
            "  0x19, 0xd7, 0xaa, 0x3b, 0x55, 0xf2, 0x0d, 0x3d, 0x24, 0x62, 0x2c, 0xbd,\n",
            "  0xb3, 0xe9, 0xc2, 0x3d, 0x2e, 0xfb, 0x94, 0xbc, 0xd8, 0x73, 0x11, 0x3d,\n",
            "  0x3b, 0xb6, 0x8d, 0xbc, 0x22, 0xd5, 0xe2, 0x3d, 0x96, 0x77, 0x9a, 0xbd,\n",
            "  0xd5, 0x45, 0xe7, 0x3c, 0x8c, 0xbb, 0xe9, 0xbd, 0xc0, 0x12, 0x9e, 0xbd,\n",
            "  0x7a, 0x03, 0xa0, 0xbd, 0x14, 0x47, 0x1e, 0x3d, 0xa6, 0xff, 0xff, 0xff,\n",
            "  0x10, 0x00, 0x00, 0x00, 0x03, 0x00, 0x00, 0x00, 0x10, 0x00, 0x00, 0x00,\n",
            "  0x24, 0x00, 0x00, 0x00, 0x01, 0x00, 0x00, 0x00, 0x10, 0x00, 0x00, 0x00,\n",
            "  0x0c, 0x00, 0x00, 0x00, 0x64, 0x65, 0x6e, 0x73, 0x65, 0x5f, 0x33, 0x2f,\n",
            "  0x62, 0x69, 0x61, 0x73, 0x00, 0x00, 0x00, 0x00, 0x04, 0x00, 0x06, 0x00,\n",
            "  0x04, 0x00, 0x00, 0x00, 0x00, 0x00, 0x06, 0x00, 0x08, 0x00, 0x04, 0x00,\n",
            "  0x06, 0x00, 0x00, 0x00, 0x04, 0x00, 0x00, 0x00, 0x0c, 0x00, 0x00, 0x00,\n",
            "  0xc8, 0x44, 0xcb, 0xbd, 0xa1, 0x53, 0x86, 0x3d, 0x4c, 0x54, 0x94, 0x3d,\n",
            "  0x00, 0x00, 0x0e, 0x00, 0x14, 0x00, 0x04, 0x00, 0x00, 0x00, 0x08, 0x00,\n",
            "  0x0c, 0x00, 0x10, 0x00, 0x0e, 0x00, 0x00, 0x00, 0x10, 0x00, 0x00, 0x00,\n",
            "  0x02, 0x00, 0x00, 0x00, 0x10, 0x00, 0x00, 0x00, 0x20, 0x00, 0x00, 0x00,\n",
            "  0x01, 0x00, 0x00, 0x00, 0x03, 0x00, 0x00, 0x00, 0x0c, 0x00, 0x00, 0x00,\n",
            "  0x64, 0x65, 0x6e, 0x73, 0x65, 0x5f, 0x34, 0x2f, 0x62, 0x69, 0x61, 0x73,\n",
            "  0x00, 0x00, 0x00, 0x00, 0x90, 0xff, 0xff, 0xff, 0x14, 0x00, 0x18, 0x00,\n",
            "  0x04, 0x00, 0x00, 0x00, 0x08, 0x00, 0x0c, 0x00, 0x10, 0x00, 0x00, 0x00,\n",
            "  0x00, 0x00, 0x14, 0x00, 0x14, 0x00, 0x00, 0x00, 0x14, 0x00, 0x00, 0x00,\n",
            "  0x01, 0x00, 0x00, 0x00, 0x18, 0x00, 0x00, 0x00, 0x44, 0x00, 0x00, 0x00,\n",
            "  0x34, 0x00, 0x00, 0x00, 0x02, 0x00, 0x00, 0x00, 0x01, 0x00, 0x00, 0x00,\n",
            "  0x24, 0x00, 0x00, 0x00, 0x1f, 0x00, 0x00, 0x00, 0x73, 0x65, 0x72, 0x76,\n",
            "  0x69, 0x6e, 0x67, 0x5f, 0x64, 0x65, 0x66, 0x61, 0x75, 0x6c, 0x74, 0x5f,\n",
            "  0x64, 0x65, 0x6e, 0x73, 0x65, 0x5f, 0x33, 0x5f, 0x69, 0x6e, 0x70, 0x75,\n",
            "  0x74, 0x3a, 0x30, 0x00, 0x02, 0x00, 0x00, 0x00, 0xff, 0xff, 0xff, 0xff,\n",
            "  0x24, 0x00, 0x00, 0x00, 0xfc, 0xff, 0xff, 0xff, 0x04, 0x00, 0x04, 0x00,\n",
            "  0x04, 0x00, 0x00, 0x00\n",
            "};\n",
            "unsigned int models_model_no_quant_tflite_len = 3784;\n"
          ]
        }
      ]
    },
    {
      "cell_type": "code",
      "source": [],
      "metadata": {
        "id": "UvI4xu1sZYVB"
      },
      "execution_count": 58,
      "outputs": []
    }
  ]
}